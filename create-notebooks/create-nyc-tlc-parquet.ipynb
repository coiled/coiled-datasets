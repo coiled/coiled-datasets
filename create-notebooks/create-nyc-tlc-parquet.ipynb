{
 "cells": [
  {
   "cell_type": "markdown",
   "id": "20130d63-14e0-487f-897e-ff6d1d7debe1",
   "metadata": {},
   "source": [
    "# Create NYC TLC Parquet files\n",
    "\n",
    "There is New York City Taxi and Limousine Commission (TLC) Trip Record Data stored in S3, [see here](https://registry.opendata.aws/nyc-tlc-trip-records-pds/).\n",
    "\n",
    "This notebook reads in the CSV data and writes out Parquet files that are easier and more performant to work with."
   ]
  },
  {
   "cell_type": "code",
   "execution_count": 1,
   "id": "c2f77b8b-d767-4f95-aa2c-e238a7b456d5",
   "metadata": {},
   "outputs": [],
   "source": [
    "import coiled\n",
    "import dask\n",
    "import dask.dataframe as dd\n",
    "import pandas as pd"
   ]
  },
  {
   "cell_type": "code",
   "execution_count": 2,
   "id": "b3678890-19d2-4003-a383-30a1e3cdf083",
   "metadata": {},
   "outputs": [
    {
     "data": {
      "text/html": [
       "<pre style=\"white-space:pre;overflow-x:auto;line-height:normal;font-family:Menlo,'DejaVu Sans Mono',consolas,'Courier New',monospace\"></pre>\n"
      ],
      "text/plain": []
     },
     "metadata": {},
     "output_type": "display_data"
    }
   ],
   "source": [
    "from coiled.v2 import Cluster\n",
    "\n",
    "cluster = Cluster(\n",
    "    name=\"nyc-tlc-cleaning\", \n",
    "    n_workers=25,\n",
    "    software=\"coiled-examples/dask-dataframes\",\n",
    "    scheduler_options={'idle_timeout':'2 hours'},\n",
    ")"
   ]
  },
  {
   "cell_type": "code",
   "execution_count": 3,
   "id": "68b7e59a-cec8-49ad-a7b3-bc33946c9c56",
   "metadata": {},
   "outputs": [
    {
     "name": "stderr",
     "output_type": "stream",
     "text": [
      "/Users/rpelgrim/mambaforge/envs/dask-dataframe/lib/python3.9/site-packages/distributed/client.py:1096: VersionMismatchWarning: Mismatched versions found\n",
      "\n",
      "+---------+----------------+---------------+---------------+\n",
      "| Package | client         | scheduler     | workers       |\n",
      "+---------+----------------+---------------+---------------+\n",
      "| python  | 3.9.12.final.0 | 3.9.7.final.0 | 3.9.7.final.0 |\n",
      "+---------+----------------+---------------+---------------+\n",
      "  warnings.warn(version_module.VersionMismatchWarning(msg[0][\"warning\"]))\n"
     ]
    }
   ],
   "source": [
    "client = dask.distributed.Client(cluster)"
   ]
  },
  {
   "cell_type": "markdown",
   "id": "a9d17050-8ab4-412f-bae8-c72a9685f085",
   "metadata": {},
   "source": [
    "## 2009 data create"
   ]
  },
  {
   "cell_type": "code",
   "execution_count": 4,
   "id": "36d17895-32cf-46d8-8ccd-8aacc7e66429",
   "metadata": {},
   "outputs": [],
   "source": [
    "ddf = dd.read_csv(\n",
    "    \"s3://nyc-tlc/trip data/yellow_tripdata_2009-*.csv\",\n",
    "    parse_dates=[\"Trip_Pickup_DateTime\", \"Trip_Dropoff_DateTime\"],\n",
    "    dtype={\n",
    "        \"Tolls_Amt\": \"float64\",\n",
    "        \"store_and_forward\": \"object\",\n",
    "    },\n",
    ")"
   ]
  },
  {
   "cell_type": "code",
   "execution_count": 5,
   "id": "64008e4e-75b5-4ac8-868e-8a4a22742bf4",
   "metadata": {},
   "outputs": [
    {
     "data": {
      "text/html": [
       "<div>\n",
       "<style scoped>\n",
       "    .dataframe tbody tr th:only-of-type {\n",
       "        vertical-align: middle;\n",
       "    }\n",
       "\n",
       "    .dataframe tbody tr th {\n",
       "        vertical-align: top;\n",
       "    }\n",
       "\n",
       "    .dataframe thead th {\n",
       "        text-align: right;\n",
       "    }\n",
       "</style>\n",
       "<table border=\"1\" class=\"dataframe\">\n",
       "  <thead>\n",
       "    <tr style=\"text-align: right;\">\n",
       "      <th></th>\n",
       "      <th>vendor_name</th>\n",
       "      <th>Trip_Pickup_DateTime</th>\n",
       "      <th>Trip_Dropoff_DateTime</th>\n",
       "      <th>Passenger_Count</th>\n",
       "      <th>Trip_Distance</th>\n",
       "      <th>Start_Lon</th>\n",
       "      <th>Start_Lat</th>\n",
       "      <th>Rate_Code</th>\n",
       "      <th>store_and_forward</th>\n",
       "      <th>End_Lon</th>\n",
       "      <th>End_Lat</th>\n",
       "      <th>Payment_Type</th>\n",
       "      <th>Fare_Amt</th>\n",
       "      <th>surcharge</th>\n",
       "      <th>mta_tax</th>\n",
       "      <th>Tip_Amt</th>\n",
       "      <th>Tolls_Amt</th>\n",
       "      <th>Total_Amt</th>\n",
       "    </tr>\n",
       "  </thead>\n",
       "  <tbody>\n",
       "    <tr>\n",
       "      <th>0</th>\n",
       "      <td>VTS</td>\n",
       "      <td>2009-01-04 02:52:00</td>\n",
       "      <td>2009-01-04 03:02:00</td>\n",
       "      <td>1</td>\n",
       "      <td>2.63</td>\n",
       "      <td>-73.991957</td>\n",
       "      <td>40.721567</td>\n",
       "      <td>NaN</td>\n",
       "      <td>NaN</td>\n",
       "      <td>-73.993803</td>\n",
       "      <td>40.695922</td>\n",
       "      <td>CASH</td>\n",
       "      <td>8.9</td>\n",
       "      <td>0.5</td>\n",
       "      <td>NaN</td>\n",
       "      <td>0.00</td>\n",
       "      <td>0.0</td>\n",
       "      <td>9.40</td>\n",
       "    </tr>\n",
       "    <tr>\n",
       "      <th>1</th>\n",
       "      <td>VTS</td>\n",
       "      <td>2009-01-04 03:31:00</td>\n",
       "      <td>2009-01-04 03:38:00</td>\n",
       "      <td>3</td>\n",
       "      <td>4.55</td>\n",
       "      <td>-73.982102</td>\n",
       "      <td>40.736290</td>\n",
       "      <td>NaN</td>\n",
       "      <td>NaN</td>\n",
       "      <td>-73.955850</td>\n",
       "      <td>40.768030</td>\n",
       "      <td>Credit</td>\n",
       "      <td>12.1</td>\n",
       "      <td>0.5</td>\n",
       "      <td>NaN</td>\n",
       "      <td>2.00</td>\n",
       "      <td>0.0</td>\n",
       "      <td>14.60</td>\n",
       "    </tr>\n",
       "    <tr>\n",
       "      <th>2</th>\n",
       "      <td>VTS</td>\n",
       "      <td>2009-01-03 15:43:00</td>\n",
       "      <td>2009-01-03 15:57:00</td>\n",
       "      <td>5</td>\n",
       "      <td>10.35</td>\n",
       "      <td>-74.002587</td>\n",
       "      <td>40.739748</td>\n",
       "      <td>NaN</td>\n",
       "      <td>NaN</td>\n",
       "      <td>-73.869983</td>\n",
       "      <td>40.770225</td>\n",
       "      <td>Credit</td>\n",
       "      <td>23.7</td>\n",
       "      <td>0.0</td>\n",
       "      <td>NaN</td>\n",
       "      <td>4.74</td>\n",
       "      <td>0.0</td>\n",
       "      <td>28.44</td>\n",
       "    </tr>\n",
       "    <tr>\n",
       "      <th>3</th>\n",
       "      <td>DDS</td>\n",
       "      <td>2009-01-01 20:52:58</td>\n",
       "      <td>2009-01-01 21:14:00</td>\n",
       "      <td>1</td>\n",
       "      <td>5.00</td>\n",
       "      <td>-73.974267</td>\n",
       "      <td>40.790955</td>\n",
       "      <td>NaN</td>\n",
       "      <td>NaN</td>\n",
       "      <td>-73.996558</td>\n",
       "      <td>40.731849</td>\n",
       "      <td>CREDIT</td>\n",
       "      <td>14.9</td>\n",
       "      <td>0.5</td>\n",
       "      <td>NaN</td>\n",
       "      <td>3.05</td>\n",
       "      <td>0.0</td>\n",
       "      <td>18.45</td>\n",
       "    </tr>\n",
       "    <tr>\n",
       "      <th>4</th>\n",
       "      <td>DDS</td>\n",
       "      <td>2009-01-24 16:18:23</td>\n",
       "      <td>2009-01-24 16:24:56</td>\n",
       "      <td>1</td>\n",
       "      <td>0.40</td>\n",
       "      <td>-74.001580</td>\n",
       "      <td>40.719382</td>\n",
       "      <td>NaN</td>\n",
       "      <td>NaN</td>\n",
       "      <td>-74.008378</td>\n",
       "      <td>40.720350</td>\n",
       "      <td>CASH</td>\n",
       "      <td>3.7</td>\n",
       "      <td>0.0</td>\n",
       "      <td>NaN</td>\n",
       "      <td>0.00</td>\n",
       "      <td>0.0</td>\n",
       "      <td>3.70</td>\n",
       "    </tr>\n",
       "  </tbody>\n",
       "</table>\n",
       "</div>"
      ],
      "text/plain": [
       "  vendor_name Trip_Pickup_DateTime Trip_Dropoff_DateTime  Passenger_Count  \\\n",
       "0         VTS  2009-01-04 02:52:00   2009-01-04 03:02:00                1   \n",
       "1         VTS  2009-01-04 03:31:00   2009-01-04 03:38:00                3   \n",
       "2         VTS  2009-01-03 15:43:00   2009-01-03 15:57:00                5   \n",
       "3         DDS  2009-01-01 20:52:58   2009-01-01 21:14:00                1   \n",
       "4         DDS  2009-01-24 16:18:23   2009-01-24 16:24:56                1   \n",
       "\n",
       "   Trip_Distance  Start_Lon  Start_Lat  Rate_Code store_and_forward  \\\n",
       "0           2.63 -73.991957  40.721567        NaN               NaN   \n",
       "1           4.55 -73.982102  40.736290        NaN               NaN   \n",
       "2          10.35 -74.002587  40.739748        NaN               NaN   \n",
       "3           5.00 -73.974267  40.790955        NaN               NaN   \n",
       "4           0.40 -74.001580  40.719382        NaN               NaN   \n",
       "\n",
       "     End_Lon    End_Lat Payment_Type  Fare_Amt  surcharge  mta_tax  Tip_Amt  \\\n",
       "0 -73.993803  40.695922         CASH       8.9        0.5      NaN     0.00   \n",
       "1 -73.955850  40.768030       Credit      12.1        0.5      NaN     2.00   \n",
       "2 -73.869983  40.770225       Credit      23.7        0.0      NaN     4.74   \n",
       "3 -73.996558  40.731849       CREDIT      14.9        0.5      NaN     3.05   \n",
       "4 -74.008378  40.720350         CASH       3.7        0.0      NaN     0.00   \n",
       "\n",
       "   Tolls_Amt  Total_Amt  \n",
       "0        0.0       9.40  \n",
       "1        0.0      14.60  \n",
       "2        0.0      28.44  \n",
       "3        0.0      18.45  \n",
       "4        0.0       3.70  "
      ]
     },
     "execution_count": 5,
     "metadata": {},
     "output_type": "execute_result"
    }
   ],
   "source": [
    "ddf.head()"
   ]
  },
  {
   "cell_type": "markdown",
   "id": "300ed4a1-b39e-4ed1-8870-acaac0ba3027",
   "metadata": {},
   "source": [
    "#### Clean Rate_Code NaNs"
   ]
  },
  {
   "cell_type": "code",
   "execution_count": 6,
   "id": "629dff79-77b8-4aaa-9f37-54a1e2420e73",
   "metadata": {},
   "outputs": [],
   "source": [
    "# # clean rate_code column NaNs\n",
    "# import math\n",
    "\n",
    "# def rate_code_to_one(something):\n",
    "#     if math.isnan(something):\n",
    "#         return 1\n",
    "#     else:\n",
    "#         return something\n",
    "    \n",
    "# ddf = ddf.assign(\n",
    "#     Rate_Code=ddf.Rate_Code.apply(rate_code_to_one, meta=(\"float64\", \"int64\"))\n",
    "# )"
   ]
  },
  {
   "cell_type": "code",
   "execution_count": 6,
   "id": "32e4acfe-7d6d-435b-8ead-6daf73c4fc34",
   "metadata": {},
   "outputs": [
    {
     "data": {
      "text/plain": [
       "vendor_name                      object\n",
       "Trip_Pickup_DateTime     datetime64[ns]\n",
       "Trip_Dropoff_DateTime    datetime64[ns]\n",
       "Passenger_Count                   int64\n",
       "Trip_Distance                   float64\n",
       "Start_Lon                       float64\n",
       "Start_Lat                       float64\n",
       "Rate_Code                       float64\n",
       "store_and_forward                object\n",
       "End_Lon                         float64\n",
       "End_Lat                         float64\n",
       "Payment_Type                     object\n",
       "Fare_Amt                        float64\n",
       "surcharge                       float64\n",
       "mta_tax                         float64\n",
       "Tip_Amt                         float64\n",
       "Tolls_Amt                       float64\n",
       "Total_Amt                       float64\n",
       "dtype: object"
      ]
     },
     "execution_count": 6,
     "metadata": {},
     "output_type": "execute_result"
    }
   ],
   "source": [
    "# vendor_id                     object\n",
    "# pickup_datetime       datetime64[ns]\n",
    "# dropoff_datetime      datetime64[ns]\n",
    "# passenger_count                int64\n",
    "# trip_distance                float64\n",
    "# pickup_longitude             float64\n",
    "# pickup_latitude              float64\n",
    "# rate_code                      int64\n",
    "# store_and_fwd_flag            object\n",
    "# dropoff_longitude            float64\n",
    "# dropoff_latitude             float64\n",
    "# payment_type                  object\n",
    "# fare_amount                  float64\n",
    "# surcharge                    float64\n",
    "# mta_tax                      float64\n",
    "# tip_amount                   float64\n",
    "# tolls_amount                 float64\n",
    "# total_amount                 float64\n",
    "# dtype: object\n",
    "ddf.dtypes"
   ]
  },
  {
   "cell_type": "code",
   "execution_count": 7,
   "id": "01bab048-7d4c-458e-8d4a-12af50aa97db",
   "metadata": {},
   "outputs": [],
   "source": [
    "# rename columns to standardize schema\n",
    "ddf = ddf.rename(\n",
    "    columns={\n",
    "        \"vendor_name\": \"vendor_id\",\n",
    "        \"Trip_Pickup_DateTime\": \"pickup_datetime\",\n",
    "        \"Trip_Dropoff_DateTime\": \"dropoff_datetime\",\n",
    "        \"Passenger_Count\": \"passenger_count\",\n",
    "        \"Trip_Distance\": \"trip_distance\",\n",
    "        \"Start_Lon\": \"pickup_longitude\",\n",
    "        \"Start_Lat\": \"pickup_latitude\",\n",
    "        \"Rate_Code\": \"rate_code\",\n",
    "        \"store_and_forward\": \"store_and_fwd_flag\",\n",
    "        \"End_Lon\": \"dropoff_longitude\",\n",
    "        \"End_Lat\": \"dropoff_latitude\",\n",
    "        \"Payment_Type\": \"payment_type\",\n",
    "        \"Fare_Amt\": \"fare_amount\",\n",
    "        \"surcharge\": \"surcharge\",\n",
    "        \"mta_tax\": \"mta_tax\",\n",
    "        \"Tip_Amt\": \"tip_amount\",\n",
    "        \"Tolls_Amt\": \"tolls_amount\",\n",
    "        \"Total_Amt\": \"total_amount\",\n",
    "    }\n",
    ")"
   ]
  },
  {
   "cell_type": "code",
   "execution_count": 8,
   "id": "cd0401ec-d92b-40a4-a904-f51e5dc13d7b",
   "metadata": {},
   "outputs": [
    {
     "data": {
      "text/plain": [
       "vendor_id                     object\n",
       "pickup_datetime       datetime64[ns]\n",
       "dropoff_datetime      datetime64[ns]\n",
       "passenger_count                int64\n",
       "trip_distance                float64\n",
       "pickup_longitude             float64\n",
       "pickup_latitude              float64\n",
       "rate_code                    float64\n",
       "store_and_fwd_flag            object\n",
       "dropoff_longitude            float64\n",
       "dropoff_latitude             float64\n",
       "payment_type                  object\n",
       "fare_amount                  float64\n",
       "surcharge                    float64\n",
       "mta_tax                      float64\n",
       "tip_amount                   float64\n",
       "tolls_amount                 float64\n",
       "total_amount                 float64\n",
       "dtype: object"
      ]
     },
     "execution_count": 8,
     "metadata": {},
     "output_type": "execute_result"
    }
   ],
   "source": [
    "ddf.dtypes"
   ]
  },
  {
   "cell_type": "code",
   "execution_count": 9,
   "id": "f0db5639-299a-4395-b4f0-548ec97e0ac2",
   "metadata": {},
   "outputs": [
    {
     "data": {
      "text/plain": [
       "18"
      ]
     },
     "execution_count": 9,
     "metadata": {},
     "output_type": "execute_result"
    }
   ],
   "source": [
    "len(ddf.dtypes)"
   ]
  },
  {
   "cell_type": "code",
   "execution_count": 10,
   "id": "6b5ddf25-de25-47ad-84d6-2682bb45b592",
   "metadata": {},
   "outputs": [
    {
     "data": {
      "text/html": [
       "<div>\n",
       "<style scoped>\n",
       "    .dataframe tbody tr th:only-of-type {\n",
       "        vertical-align: middle;\n",
       "    }\n",
       "\n",
       "    .dataframe tbody tr th {\n",
       "        vertical-align: top;\n",
       "    }\n",
       "\n",
       "    .dataframe thead th {\n",
       "        text-align: right;\n",
       "    }\n",
       "</style>\n",
       "<table border=\"1\" class=\"dataframe\">\n",
       "  <thead>\n",
       "    <tr style=\"text-align: right;\">\n",
       "      <th></th>\n",
       "      <th>vendor_id</th>\n",
       "      <th>pickup_datetime</th>\n",
       "      <th>dropoff_datetime</th>\n",
       "      <th>passenger_count</th>\n",
       "      <th>trip_distance</th>\n",
       "      <th>pickup_longitude</th>\n",
       "      <th>pickup_latitude</th>\n",
       "      <th>rate_code</th>\n",
       "      <th>store_and_fwd_flag</th>\n",
       "      <th>dropoff_longitude</th>\n",
       "      <th>dropoff_latitude</th>\n",
       "      <th>payment_type</th>\n",
       "      <th>fare_amount</th>\n",
       "      <th>surcharge</th>\n",
       "      <th>mta_tax</th>\n",
       "      <th>tip_amount</th>\n",
       "      <th>tolls_amount</th>\n",
       "      <th>total_amount</th>\n",
       "    </tr>\n",
       "  </thead>\n",
       "  <tbody>\n",
       "    <tr>\n",
       "      <th>0</th>\n",
       "      <td>VTS</td>\n",
       "      <td>2009-01-04 02:52:00</td>\n",
       "      <td>2009-01-04 03:02:00</td>\n",
       "      <td>1</td>\n",
       "      <td>2.63</td>\n",
       "      <td>-73.991957</td>\n",
       "      <td>40.721567</td>\n",
       "      <td>NaN</td>\n",
       "      <td>NaN</td>\n",
       "      <td>-73.993803</td>\n",
       "      <td>40.695922</td>\n",
       "      <td>CASH</td>\n",
       "      <td>8.9</td>\n",
       "      <td>0.5</td>\n",
       "      <td>NaN</td>\n",
       "      <td>0.00</td>\n",
       "      <td>0.0</td>\n",
       "      <td>9.40</td>\n",
       "    </tr>\n",
       "    <tr>\n",
       "      <th>1</th>\n",
       "      <td>VTS</td>\n",
       "      <td>2009-01-04 03:31:00</td>\n",
       "      <td>2009-01-04 03:38:00</td>\n",
       "      <td>3</td>\n",
       "      <td>4.55</td>\n",
       "      <td>-73.982102</td>\n",
       "      <td>40.736290</td>\n",
       "      <td>NaN</td>\n",
       "      <td>NaN</td>\n",
       "      <td>-73.955850</td>\n",
       "      <td>40.768030</td>\n",
       "      <td>Credit</td>\n",
       "      <td>12.1</td>\n",
       "      <td>0.5</td>\n",
       "      <td>NaN</td>\n",
       "      <td>2.00</td>\n",
       "      <td>0.0</td>\n",
       "      <td>14.60</td>\n",
       "    </tr>\n",
       "    <tr>\n",
       "      <th>2</th>\n",
       "      <td>VTS</td>\n",
       "      <td>2009-01-03 15:43:00</td>\n",
       "      <td>2009-01-03 15:57:00</td>\n",
       "      <td>5</td>\n",
       "      <td>10.35</td>\n",
       "      <td>-74.002587</td>\n",
       "      <td>40.739748</td>\n",
       "      <td>NaN</td>\n",
       "      <td>NaN</td>\n",
       "      <td>-73.869983</td>\n",
       "      <td>40.770225</td>\n",
       "      <td>Credit</td>\n",
       "      <td>23.7</td>\n",
       "      <td>0.0</td>\n",
       "      <td>NaN</td>\n",
       "      <td>4.74</td>\n",
       "      <td>0.0</td>\n",
       "      <td>28.44</td>\n",
       "    </tr>\n",
       "    <tr>\n",
       "      <th>3</th>\n",
       "      <td>DDS</td>\n",
       "      <td>2009-01-01 20:52:58</td>\n",
       "      <td>2009-01-01 21:14:00</td>\n",
       "      <td>1</td>\n",
       "      <td>5.00</td>\n",
       "      <td>-73.974267</td>\n",
       "      <td>40.790955</td>\n",
       "      <td>NaN</td>\n",
       "      <td>NaN</td>\n",
       "      <td>-73.996558</td>\n",
       "      <td>40.731849</td>\n",
       "      <td>CREDIT</td>\n",
       "      <td>14.9</td>\n",
       "      <td>0.5</td>\n",
       "      <td>NaN</td>\n",
       "      <td>3.05</td>\n",
       "      <td>0.0</td>\n",
       "      <td>18.45</td>\n",
       "    </tr>\n",
       "    <tr>\n",
       "      <th>4</th>\n",
       "      <td>DDS</td>\n",
       "      <td>2009-01-24 16:18:23</td>\n",
       "      <td>2009-01-24 16:24:56</td>\n",
       "      <td>1</td>\n",
       "      <td>0.40</td>\n",
       "      <td>-74.001580</td>\n",
       "      <td>40.719382</td>\n",
       "      <td>NaN</td>\n",
       "      <td>NaN</td>\n",
       "      <td>-74.008378</td>\n",
       "      <td>40.720350</td>\n",
       "      <td>CASH</td>\n",
       "      <td>3.7</td>\n",
       "      <td>0.0</td>\n",
       "      <td>NaN</td>\n",
       "      <td>0.00</td>\n",
       "      <td>0.0</td>\n",
       "      <td>3.70</td>\n",
       "    </tr>\n",
       "  </tbody>\n",
       "</table>\n",
       "</div>"
      ],
      "text/plain": [
       "  vendor_id     pickup_datetime    dropoff_datetime  passenger_count  \\\n",
       "0       VTS 2009-01-04 02:52:00 2009-01-04 03:02:00                1   \n",
       "1       VTS 2009-01-04 03:31:00 2009-01-04 03:38:00                3   \n",
       "2       VTS 2009-01-03 15:43:00 2009-01-03 15:57:00                5   \n",
       "3       DDS 2009-01-01 20:52:58 2009-01-01 21:14:00                1   \n",
       "4       DDS 2009-01-24 16:18:23 2009-01-24 16:24:56                1   \n",
       "\n",
       "   trip_distance  pickup_longitude  pickup_latitude  rate_code  \\\n",
       "0           2.63        -73.991957        40.721567        NaN   \n",
       "1           4.55        -73.982102        40.736290        NaN   \n",
       "2          10.35        -74.002587        40.739748        NaN   \n",
       "3           5.00        -73.974267        40.790955        NaN   \n",
       "4           0.40        -74.001580        40.719382        NaN   \n",
       "\n",
       "  store_and_fwd_flag  dropoff_longitude  dropoff_latitude payment_type  \\\n",
       "0                NaN         -73.993803         40.695922         CASH   \n",
       "1                NaN         -73.955850         40.768030       Credit   \n",
       "2                NaN         -73.869983         40.770225       Credit   \n",
       "3                NaN         -73.996558         40.731849       CREDIT   \n",
       "4                NaN         -74.008378         40.720350         CASH   \n",
       "\n",
       "   fare_amount  surcharge  mta_tax  tip_amount  tolls_amount  total_amount  \n",
       "0          8.9        0.5      NaN        0.00           0.0          9.40  \n",
       "1         12.1        0.5      NaN        2.00           0.0         14.60  \n",
       "2         23.7        0.0      NaN        4.74           0.0         28.44  \n",
       "3         14.9        0.5      NaN        3.05           0.0         18.45  \n",
       "4          3.7        0.0      NaN        0.00           0.0          3.70  "
      ]
     },
     "execution_count": 10,
     "metadata": {},
     "output_type": "execute_result"
    }
   ],
   "source": [
    "ddf.head()"
   ]
  },
  {
   "cell_type": "code",
   "execution_count": 11,
   "id": "98211e29-52ca-4e6f-8353-7824bc7b0429",
   "metadata": {},
   "outputs": [
    {
     "data": {
      "text/plain": [
       "478"
      ]
     },
     "execution_count": 11,
     "metadata": {},
     "output_type": "execute_result"
    }
   ],
   "source": [
    "ddf.npartitions"
   ]
  },
  {
   "cell_type": "code",
   "execution_count": 12,
   "id": "3ac612f3-7548-4ced-a440-60101cccb29f",
   "metadata": {},
   "outputs": [
    {
     "data": {
      "text/plain": [
       "False"
      ]
     },
     "execution_count": 12,
     "metadata": {},
     "output_type": "execute_result"
    }
   ],
   "source": [
    "ddf.known_divisions"
   ]
  },
  {
   "cell_type": "code",
   "execution_count": 13,
   "id": "23108abd-5ce1-4930-a14e-eb4d0544d9fa",
   "metadata": {},
   "outputs": [
    {
     "data": {
      "text/plain": [
       "[None]"
      ]
     },
     "execution_count": 13,
     "metadata": {},
     "output_type": "execute_result"
    }
   ],
   "source": [
    "ddf.repartition(partition_size=\"100MB\").to_parquet(\n",
    "    \"s3://coiled-datasets/dask-book/nyc-tlc/2009\",\n",
    "    engine=\"pyarrow\",\n",
    "    compression=\"snappy\",\n",
    "    write_metadata_file=False,\n",
    ")"
   ]
  },
  {
   "cell_type": "code",
   "execution_count": 14,
   "id": "5ca6f617-e437-4bcc-bf0d-a4e82ab86a7c",
   "metadata": {},
   "outputs": [],
   "source": [
    "cluster.scale(50)"
   ]
  },
  {
   "cell_type": "markdown",
   "id": "0a3f798f-2be5-4a98-826e-941da27c8da7",
   "metadata": {},
   "source": [
    "## 2009 data query"
   ]
  },
  {
   "cell_type": "code",
   "execution_count": 15,
   "id": "718fc0f8-148e-4e43-acc3-ac63d9a8dec0",
   "metadata": {},
   "outputs": [],
   "source": [
    "ddf = dd.read_parquet(\n",
    "    \"s3://coiled-datasets/dask-book/nyc-tlc/2009\",\n",
    "    engine=\"pyarrow\",\n",
    ")"
   ]
  },
  {
   "cell_type": "code",
   "execution_count": 16,
   "id": "349ba69a-e2f9-4162-bb46-ac2e1ba9e385",
   "metadata": {},
   "outputs": [
    {
     "data": {
      "text/html": [
       "<div>\n",
       "<style scoped>\n",
       "    .dataframe tbody tr th:only-of-type {\n",
       "        vertical-align: middle;\n",
       "    }\n",
       "\n",
       "    .dataframe tbody tr th {\n",
       "        vertical-align: top;\n",
       "    }\n",
       "\n",
       "    .dataframe thead th {\n",
       "        text-align: right;\n",
       "    }\n",
       "</style>\n",
       "<table border=\"1\" class=\"dataframe\">\n",
       "  <thead>\n",
       "    <tr style=\"text-align: right;\">\n",
       "      <th></th>\n",
       "      <th>vendor_id</th>\n",
       "      <th>pickup_datetime</th>\n",
       "      <th>dropoff_datetime</th>\n",
       "      <th>passenger_count</th>\n",
       "      <th>trip_distance</th>\n",
       "      <th>pickup_longitude</th>\n",
       "      <th>pickup_latitude</th>\n",
       "      <th>rate_code</th>\n",
       "      <th>store_and_fwd_flag</th>\n",
       "      <th>dropoff_longitude</th>\n",
       "      <th>dropoff_latitude</th>\n",
       "      <th>payment_type</th>\n",
       "      <th>fare_amount</th>\n",
       "      <th>surcharge</th>\n",
       "      <th>mta_tax</th>\n",
       "      <th>tip_amount</th>\n",
       "      <th>tolls_amount</th>\n",
       "      <th>total_amount</th>\n",
       "    </tr>\n",
       "  </thead>\n",
       "  <tbody>\n",
       "    <tr>\n",
       "      <th>0</th>\n",
       "      <td>VTS</td>\n",
       "      <td>2009-01-04 02:52:00</td>\n",
       "      <td>2009-01-04 03:02:00</td>\n",
       "      <td>1</td>\n",
       "      <td>2.63</td>\n",
       "      <td>-73.991957</td>\n",
       "      <td>40.721567</td>\n",
       "      <td>NaN</td>\n",
       "      <td>None</td>\n",
       "      <td>-73.993803</td>\n",
       "      <td>40.695922</td>\n",
       "      <td>CASH</td>\n",
       "      <td>8.9</td>\n",
       "      <td>0.5</td>\n",
       "      <td>NaN</td>\n",
       "      <td>0.00</td>\n",
       "      <td>0.0</td>\n",
       "      <td>9.40</td>\n",
       "    </tr>\n",
       "    <tr>\n",
       "      <th>1</th>\n",
       "      <td>VTS</td>\n",
       "      <td>2009-01-04 03:31:00</td>\n",
       "      <td>2009-01-04 03:38:00</td>\n",
       "      <td>3</td>\n",
       "      <td>4.55</td>\n",
       "      <td>-73.982102</td>\n",
       "      <td>40.736290</td>\n",
       "      <td>NaN</td>\n",
       "      <td>None</td>\n",
       "      <td>-73.955850</td>\n",
       "      <td>40.768030</td>\n",
       "      <td>Credit</td>\n",
       "      <td>12.1</td>\n",
       "      <td>0.5</td>\n",
       "      <td>NaN</td>\n",
       "      <td>2.00</td>\n",
       "      <td>0.0</td>\n",
       "      <td>14.60</td>\n",
       "    </tr>\n",
       "    <tr>\n",
       "      <th>2</th>\n",
       "      <td>VTS</td>\n",
       "      <td>2009-01-03 15:43:00</td>\n",
       "      <td>2009-01-03 15:57:00</td>\n",
       "      <td>5</td>\n",
       "      <td>10.35</td>\n",
       "      <td>-74.002587</td>\n",
       "      <td>40.739748</td>\n",
       "      <td>NaN</td>\n",
       "      <td>None</td>\n",
       "      <td>-73.869983</td>\n",
       "      <td>40.770225</td>\n",
       "      <td>Credit</td>\n",
       "      <td>23.7</td>\n",
       "      <td>0.0</td>\n",
       "      <td>NaN</td>\n",
       "      <td>4.74</td>\n",
       "      <td>0.0</td>\n",
       "      <td>28.44</td>\n",
       "    </tr>\n",
       "    <tr>\n",
       "      <th>3</th>\n",
       "      <td>DDS</td>\n",
       "      <td>2009-01-01 20:52:58</td>\n",
       "      <td>2009-01-01 21:14:00</td>\n",
       "      <td>1</td>\n",
       "      <td>5.00</td>\n",
       "      <td>-73.974267</td>\n",
       "      <td>40.790955</td>\n",
       "      <td>NaN</td>\n",
       "      <td>None</td>\n",
       "      <td>-73.996558</td>\n",
       "      <td>40.731849</td>\n",
       "      <td>CREDIT</td>\n",
       "      <td>14.9</td>\n",
       "      <td>0.5</td>\n",
       "      <td>NaN</td>\n",
       "      <td>3.05</td>\n",
       "      <td>0.0</td>\n",
       "      <td>18.45</td>\n",
       "    </tr>\n",
       "    <tr>\n",
       "      <th>4</th>\n",
       "      <td>DDS</td>\n",
       "      <td>2009-01-24 16:18:23</td>\n",
       "      <td>2009-01-24 16:24:56</td>\n",
       "      <td>1</td>\n",
       "      <td>0.40</td>\n",
       "      <td>-74.001580</td>\n",
       "      <td>40.719382</td>\n",
       "      <td>NaN</td>\n",
       "      <td>None</td>\n",
       "      <td>-74.008378</td>\n",
       "      <td>40.720350</td>\n",
       "      <td>CASH</td>\n",
       "      <td>3.7</td>\n",
       "      <td>0.0</td>\n",
       "      <td>NaN</td>\n",
       "      <td>0.00</td>\n",
       "      <td>0.0</td>\n",
       "      <td>3.70</td>\n",
       "    </tr>\n",
       "  </tbody>\n",
       "</table>\n",
       "</div>"
      ],
      "text/plain": [
       "  vendor_id     pickup_datetime    dropoff_datetime  passenger_count  \\\n",
       "0       VTS 2009-01-04 02:52:00 2009-01-04 03:02:00                1   \n",
       "1       VTS 2009-01-04 03:31:00 2009-01-04 03:38:00                3   \n",
       "2       VTS 2009-01-03 15:43:00 2009-01-03 15:57:00                5   \n",
       "3       DDS 2009-01-01 20:52:58 2009-01-01 21:14:00                1   \n",
       "4       DDS 2009-01-24 16:18:23 2009-01-24 16:24:56                1   \n",
       "\n",
       "   trip_distance  pickup_longitude  pickup_latitude  rate_code  \\\n",
       "0           2.63        -73.991957        40.721567        NaN   \n",
       "1           4.55        -73.982102        40.736290        NaN   \n",
       "2          10.35        -74.002587        40.739748        NaN   \n",
       "3           5.00        -73.974267        40.790955        NaN   \n",
       "4           0.40        -74.001580        40.719382        NaN   \n",
       "\n",
       "  store_and_fwd_flag  dropoff_longitude  dropoff_latitude payment_type  \\\n",
       "0               None         -73.993803         40.695922         CASH   \n",
       "1               None         -73.955850         40.768030       Credit   \n",
       "2               None         -73.869983         40.770225       Credit   \n",
       "3               None         -73.996558         40.731849       CREDIT   \n",
       "4               None         -74.008378         40.720350         CASH   \n",
       "\n",
       "   fare_amount  surcharge  mta_tax  tip_amount  tolls_amount  total_amount  \n",
       "0          8.9        0.5      NaN        0.00           0.0          9.40  \n",
       "1         12.1        0.5      NaN        2.00           0.0         14.60  \n",
       "2         23.7        0.0      NaN        4.74           0.0         28.44  \n",
       "3         14.9        0.5      NaN        3.05           0.0         18.45  \n",
       "4          3.7        0.0      NaN        0.00           0.0          3.70  "
      ]
     },
     "execution_count": 16,
     "metadata": {},
     "output_type": "execute_result"
    }
   ],
   "source": [
    "ddf.head()"
   ]
  },
  {
   "cell_type": "code",
   "execution_count": 17,
   "id": "2ba3f3b9-4cab-4b29-bea5-4179133ae369",
   "metadata": {},
   "outputs": [],
   "source": [
    "dtypes_2009 = ddf.dtypes"
   ]
  },
  {
   "cell_type": "code",
   "execution_count": 19,
   "id": "1dc27022-b99c-4c50-afec-0aad34a98ec3",
   "metadata": {},
   "outputs": [
    {
     "data": {
      "text/plain": [
       "vendor_id                     object\n",
       "pickup_datetime       datetime64[ns]\n",
       "dropoff_datetime      datetime64[ns]\n",
       "passenger_count                int64\n",
       "trip_distance                float64\n",
       "pickup_longitude             float64\n",
       "pickup_latitude              float64\n",
       "rate_code                    float64\n",
       "store_and_fwd_flag            object\n",
       "dropoff_longitude            float64\n",
       "dropoff_latitude             float64\n",
       "payment_type                  object\n",
       "fare_amount                  float64\n",
       "surcharge                    float64\n",
       "mta_tax                      float64\n",
       "tip_amount                   float64\n",
       "tolls_amount                 float64\n",
       "total_amount                 float64\n",
       "dtype: object"
      ]
     },
     "execution_count": 19,
     "metadata": {},
     "output_type": "execute_result"
    }
   ],
   "source": [
    "dtypes_2009"
   ]
  },
  {
   "cell_type": "code",
   "execution_count": 20,
   "id": "c9afe7da-874d-4839-a185-66953bd901d3",
   "metadata": {},
   "outputs": [
    {
     "data": {
      "text/html": [
       "<div>\n",
       "<style scoped>\n",
       "    .dataframe tbody tr th:only-of-type {\n",
       "        vertical-align: middle;\n",
       "    }\n",
       "\n",
       "    .dataframe tbody tr th {\n",
       "        vertical-align: top;\n",
       "    }\n",
       "\n",
       "    .dataframe thead th {\n",
       "        text-align: right;\n",
       "    }\n",
       "</style>\n",
       "<table border=\"1\" class=\"dataframe\">\n",
       "  <thead>\n",
       "    <tr style=\"text-align: right;\">\n",
       "      <th></th>\n",
       "      <th>passenger_count</th>\n",
       "      <th>trip_distance</th>\n",
       "      <th>pickup_longitude</th>\n",
       "      <th>pickup_latitude</th>\n",
       "      <th>rate_code</th>\n",
       "      <th>dropoff_longitude</th>\n",
       "      <th>dropoff_latitude</th>\n",
       "      <th>fare_amount</th>\n",
       "      <th>surcharge</th>\n",
       "      <th>mta_tax</th>\n",
       "      <th>tip_amount</th>\n",
       "      <th>tolls_amount</th>\n",
       "      <th>total_amount</th>\n",
       "    </tr>\n",
       "  </thead>\n",
       "  <tbody>\n",
       "    <tr>\n",
       "      <th>count</th>\n",
       "      <td>1.708961e+08</td>\n",
       "      <td>1.708961e+08</td>\n",
       "      <td>1.708961e+08</td>\n",
       "      <td>1.708961e+08</td>\n",
       "      <td>0.0</td>\n",
       "      <td>1.708961e+08</td>\n",
       "      <td>1.708961e+08</td>\n",
       "      <td>1.708961e+08</td>\n",
       "      <td>1.708961e+08</td>\n",
       "      <td>2.985549e+07</td>\n",
       "      <td>1.708961e+08</td>\n",
       "      <td>1.708961e+08</td>\n",
       "      <td>1.708961e+08</td>\n",
       "    </tr>\n",
       "    <tr>\n",
       "      <th>mean</th>\n",
       "      <td>1.691026e+00</td>\n",
       "      <td>2.708163e+00</td>\n",
       "      <td>-7.304755e+01</td>\n",
       "      <td>4.024202e+01</td>\n",
       "      <td>NaN</td>\n",
       "      <td>-7.306975e+01</td>\n",
       "      <td>4.025457e+01</td>\n",
       "      <td>9.905162e+00</td>\n",
       "      <td>2.124957e-01</td>\n",
       "      <td>4.483104e-01</td>\n",
       "      <td>5.733786e-01</td>\n",
       "      <td>1.531628e-01</td>\n",
       "      <td>1.093008e+01</td>\n",
       "    </tr>\n",
       "    <tr>\n",
       "      <th>std</th>\n",
       "      <td>1.317733e+00</td>\n",
       "      <td>3.119908e+00</td>\n",
       "      <td>8.339580e+00</td>\n",
       "      <td>4.634872e+00</td>\n",
       "      <td>NaN</td>\n",
       "      <td>8.217777e+00</td>\n",
       "      <td>4.633053e+00</td>\n",
       "      <td>7.686219e+00</td>\n",
       "      <td>3.366762e-01</td>\n",
       "      <td>1.522268e-01</td>\n",
       "      <td>1.428889e+00</td>\n",
       "      <td>8.581441e-01</td>\n",
       "      <td>8.855952e+00</td>\n",
       "    </tr>\n",
       "    <tr>\n",
       "      <th>min</th>\n",
       "      <td>0.000000e+00</td>\n",
       "      <td>0.000000e+00</td>\n",
       "      <td>-2.828434e+03</td>\n",
       "      <td>-3.084300e+03</td>\n",
       "      <td>NaN</td>\n",
       "      <td>-3.509015e+03</td>\n",
       "      <td>-3.579139e+03</td>\n",
       "      <td>2.500000e+00</td>\n",
       "      <td>0.000000e+00</td>\n",
       "      <td>0.000000e+00</td>\n",
       "      <td>0.000000e+00</td>\n",
       "      <td>0.000000e+00</td>\n",
       "      <td>2.500000e+00</td>\n",
       "    </tr>\n",
       "    <tr>\n",
       "      <th>25%</th>\n",
       "      <td>1.000000e+00</td>\n",
       "      <td>1.020000e+00</td>\n",
       "      <td>-7.399142e+01</td>\n",
       "      <td>4.073691e+01</td>\n",
       "      <td>NaN</td>\n",
       "      <td>-7.399083e+01</td>\n",
       "      <td>4.073623e+01</td>\n",
       "      <td>5.700000e+00</td>\n",
       "      <td>0.000000e+00</td>\n",
       "      <td>5.000000e-01</td>\n",
       "      <td>0.000000e+00</td>\n",
       "      <td>0.000000e+00</td>\n",
       "      <td>6.700000e+00</td>\n",
       "    </tr>\n",
       "    <tr>\n",
       "      <th>50%</th>\n",
       "      <td>1.000000e+00</td>\n",
       "      <td>1.770000e+00</td>\n",
       "      <td>-7.398108e+01</td>\n",
       "      <td>4.075461e+01</td>\n",
       "      <td>NaN</td>\n",
       "      <td>-7.397959e+01</td>\n",
       "      <td>4.075486e+01</td>\n",
       "      <td>7.700000e+00</td>\n",
       "      <td>0.000000e+00</td>\n",
       "      <td>5.000000e-01</td>\n",
       "      <td>0.000000e+00</td>\n",
       "      <td>0.000000e+00</td>\n",
       "      <td>9.000000e+00</td>\n",
       "    </tr>\n",
       "    <tr>\n",
       "      <th>75%</th>\n",
       "      <td>2.000000e+00</td>\n",
       "      <td>3.130000e+00</td>\n",
       "      <td>-7.396643e+01</td>\n",
       "      <td>4.076873e+01</td>\n",
       "      <td>NaN</td>\n",
       "      <td>-7.396378e+01</td>\n",
       "      <td>4.076934e+01</td>\n",
       "      <td>1.130000e+01</td>\n",
       "      <td>5.000000e-01</td>\n",
       "      <td>5.000000e-01</td>\n",
       "      <td>1.000000e+00</td>\n",
       "      <td>0.000000e+00</td>\n",
       "      <td>1.300000e+01</td>\n",
       "    </tr>\n",
       "    <tr>\n",
       "      <th>max</th>\n",
       "      <td>2.550000e+02</td>\n",
       "      <td>5.000000e+01</td>\n",
       "      <td>3.570224e+03</td>\n",
       "      <td>3.210379e+03</td>\n",
       "      <td>NaN</td>\n",
       "      <td>1.565330e+03</td>\n",
       "      <td>3.172506e+03</td>\n",
       "      <td>2.000000e+02</td>\n",
       "      <td>1.200000e+01</td>\n",
       "      <td>5.000000e-01</td>\n",
       "      <td>1.000000e+02</td>\n",
       "      <td>2.000000e+01</td>\n",
       "      <td>2.355000e+02</td>\n",
       "    </tr>\n",
       "  </tbody>\n",
       "</table>\n",
       "</div>"
      ],
      "text/plain": [
       "       passenger_count  trip_distance  pickup_longitude  pickup_latitude  \\\n",
       "count     1.708961e+08   1.708961e+08      1.708961e+08     1.708961e+08   \n",
       "mean      1.691026e+00   2.708163e+00     -7.304755e+01     4.024202e+01   \n",
       "std       1.317733e+00   3.119908e+00      8.339580e+00     4.634872e+00   \n",
       "min       0.000000e+00   0.000000e+00     -2.828434e+03    -3.084300e+03   \n",
       "25%       1.000000e+00   1.020000e+00     -7.399142e+01     4.073691e+01   \n",
       "50%       1.000000e+00   1.770000e+00     -7.398108e+01     4.075461e+01   \n",
       "75%       2.000000e+00   3.130000e+00     -7.396643e+01     4.076873e+01   \n",
       "max       2.550000e+02   5.000000e+01      3.570224e+03     3.210379e+03   \n",
       "\n",
       "       rate_code  dropoff_longitude  dropoff_latitude   fare_amount  \\\n",
       "count        0.0       1.708961e+08      1.708961e+08  1.708961e+08   \n",
       "mean         NaN      -7.306975e+01      4.025457e+01  9.905162e+00   \n",
       "std          NaN       8.217777e+00      4.633053e+00  7.686219e+00   \n",
       "min          NaN      -3.509015e+03     -3.579139e+03  2.500000e+00   \n",
       "25%          NaN      -7.399083e+01      4.073623e+01  5.700000e+00   \n",
       "50%          NaN      -7.397959e+01      4.075486e+01  7.700000e+00   \n",
       "75%          NaN      -7.396378e+01      4.076934e+01  1.130000e+01   \n",
       "max          NaN       1.565330e+03      3.172506e+03  2.000000e+02   \n",
       "\n",
       "          surcharge       mta_tax    tip_amount  tolls_amount  total_amount  \n",
       "count  1.708961e+08  2.985549e+07  1.708961e+08  1.708961e+08  1.708961e+08  \n",
       "mean   2.124957e-01  4.483104e-01  5.733786e-01  1.531628e-01  1.093008e+01  \n",
       "std    3.366762e-01  1.522268e-01  1.428889e+00  8.581441e-01  8.855952e+00  \n",
       "min    0.000000e+00  0.000000e+00  0.000000e+00  0.000000e+00  2.500000e+00  \n",
       "25%    0.000000e+00  5.000000e-01  0.000000e+00  0.000000e+00  6.700000e+00  \n",
       "50%    0.000000e+00  5.000000e-01  0.000000e+00  0.000000e+00  9.000000e+00  \n",
       "75%    5.000000e-01  5.000000e-01  1.000000e+00  0.000000e+00  1.300000e+01  \n",
       "max    1.200000e+01  5.000000e-01  1.000000e+02  2.000000e+01  2.355000e+02  "
      ]
     },
     "execution_count": 20,
     "metadata": {},
     "output_type": "execute_result"
    }
   ],
   "source": [
    "# verify by computing summary statistics\n",
    "ddf.describe().compute()"
   ]
  },
  {
   "cell_type": "markdown",
   "id": "3400bc33-a9a2-4744-ae96-1aa57b347933",
   "metadata": {},
   "source": [
    "## 2010 data create"
   ]
  },
  {
   "cell_type": "code",
   "execution_count": 22,
   "id": "b0169f59-1176-4267-b79f-c6b009af85d7",
   "metadata": {},
   "outputs": [],
   "source": [
    "# read data in without dtypes\n",
    "ddf = dd.read_csv(\n",
    "    \"s3://nyc-tlc/trip data/yellow_tripdata_2010-*.csv\",\n",
    "    parse_dates=[\"pickup_datetime\", \"dropoff_datetime\"],\n",
    "    on_bad_lines=\"skip\",\n",
    "    dtype={\n",
    "        'tolls_amount': 'float64',\n",
    "        \"store_and_fwd_flag\": \"object\",\n",
    "    },\n",
    ")"
   ]
  },
  {
   "cell_type": "code",
   "execution_count": 23,
   "id": "84c71188-f2d4-4f34-a1f2-0dd87e0cf814",
   "metadata": {},
   "outputs": [
    {
     "data": {
      "text/html": [
       "<div>\n",
       "<style scoped>\n",
       "    .dataframe tbody tr th:only-of-type {\n",
       "        vertical-align: middle;\n",
       "    }\n",
       "\n",
       "    .dataframe tbody tr th {\n",
       "        vertical-align: top;\n",
       "    }\n",
       "\n",
       "    .dataframe thead th {\n",
       "        text-align: right;\n",
       "    }\n",
       "</style>\n",
       "<table border=\"1\" class=\"dataframe\">\n",
       "  <thead>\n",
       "    <tr style=\"text-align: right;\">\n",
       "      <th></th>\n",
       "      <th>vendor_id</th>\n",
       "      <th>pickup_datetime</th>\n",
       "      <th>dropoff_datetime</th>\n",
       "      <th>passenger_count</th>\n",
       "      <th>trip_distance</th>\n",
       "      <th>pickup_longitude</th>\n",
       "      <th>pickup_latitude</th>\n",
       "      <th>rate_code</th>\n",
       "      <th>store_and_fwd_flag</th>\n",
       "      <th>dropoff_longitude</th>\n",
       "      <th>dropoff_latitude</th>\n",
       "      <th>payment_type</th>\n",
       "      <th>fare_amount</th>\n",
       "      <th>surcharge</th>\n",
       "      <th>mta_tax</th>\n",
       "      <th>tip_amount</th>\n",
       "      <th>tolls_amount</th>\n",
       "      <th>total_amount</th>\n",
       "    </tr>\n",
       "  </thead>\n",
       "  <tbody>\n",
       "    <tr>\n",
       "      <th>0</th>\n",
       "      <td>VTS</td>\n",
       "      <td>2010-01-26 07:41:00</td>\n",
       "      <td>2010-01-26 07:45:00</td>\n",
       "      <td>1</td>\n",
       "      <td>0.75</td>\n",
       "      <td>-73.956778</td>\n",
       "      <td>40.767750</td>\n",
       "      <td>1</td>\n",
       "      <td>NaN</td>\n",
       "      <td>-73.965957</td>\n",
       "      <td>40.765232</td>\n",
       "      <td>CAS</td>\n",
       "      <td>4.5</td>\n",
       "      <td>0.0</td>\n",
       "      <td>0.5</td>\n",
       "      <td>0.00</td>\n",
       "      <td>0.0</td>\n",
       "      <td>5.00</td>\n",
       "    </tr>\n",
       "    <tr>\n",
       "      <th>1</th>\n",
       "      <td>DDS</td>\n",
       "      <td>2010-01-30 23:31:00</td>\n",
       "      <td>2010-01-30 23:46:12</td>\n",
       "      <td>1</td>\n",
       "      <td>5.90</td>\n",
       "      <td>-73.996118</td>\n",
       "      <td>40.763932</td>\n",
       "      <td>1</td>\n",
       "      <td>NaN</td>\n",
       "      <td>-73.981512</td>\n",
       "      <td>40.741193</td>\n",
       "      <td>CAS</td>\n",
       "      <td>15.3</td>\n",
       "      <td>0.5</td>\n",
       "      <td>0.5</td>\n",
       "      <td>0.00</td>\n",
       "      <td>0.0</td>\n",
       "      <td>16.30</td>\n",
       "    </tr>\n",
       "    <tr>\n",
       "      <th>2</th>\n",
       "      <td>DDS</td>\n",
       "      <td>2010-01-18 20:22:20</td>\n",
       "      <td>2010-01-18 20:38:12</td>\n",
       "      <td>1</td>\n",
       "      <td>4.00</td>\n",
       "      <td>-73.979673</td>\n",
       "      <td>40.783790</td>\n",
       "      <td>1</td>\n",
       "      <td>NaN</td>\n",
       "      <td>-73.917852</td>\n",
       "      <td>40.878560</td>\n",
       "      <td>CAS</td>\n",
       "      <td>11.7</td>\n",
       "      <td>0.5</td>\n",
       "      <td>0.5</td>\n",
       "      <td>0.00</td>\n",
       "      <td>0.0</td>\n",
       "      <td>12.70</td>\n",
       "    </tr>\n",
       "    <tr>\n",
       "      <th>3</th>\n",
       "      <td>VTS</td>\n",
       "      <td>2010-01-09 01:18:00</td>\n",
       "      <td>2010-01-09 01:35:00</td>\n",
       "      <td>2</td>\n",
       "      <td>4.70</td>\n",
       "      <td>-73.977922</td>\n",
       "      <td>40.763997</td>\n",
       "      <td>1</td>\n",
       "      <td>NaN</td>\n",
       "      <td>-73.923908</td>\n",
       "      <td>40.759725</td>\n",
       "      <td>CAS</td>\n",
       "      <td>13.3</td>\n",
       "      <td>0.5</td>\n",
       "      <td>0.5</td>\n",
       "      <td>0.00</td>\n",
       "      <td>0.0</td>\n",
       "      <td>14.30</td>\n",
       "    </tr>\n",
       "    <tr>\n",
       "      <th>4</th>\n",
       "      <td>CMT</td>\n",
       "      <td>2010-01-18 19:10:14</td>\n",
       "      <td>2010-01-18 19:17:07</td>\n",
       "      <td>1</td>\n",
       "      <td>0.60</td>\n",
       "      <td>-73.990924</td>\n",
       "      <td>40.734682</td>\n",
       "      <td>1</td>\n",
       "      <td>0</td>\n",
       "      <td>-73.995511</td>\n",
       "      <td>40.739088</td>\n",
       "      <td>Cre</td>\n",
       "      <td>5.3</td>\n",
       "      <td>0.0</td>\n",
       "      <td>0.5</td>\n",
       "      <td>0.87</td>\n",
       "      <td>0.0</td>\n",
       "      <td>6.67</td>\n",
       "    </tr>\n",
       "  </tbody>\n",
       "</table>\n",
       "</div>"
      ],
      "text/plain": [
       "  vendor_id     pickup_datetime    dropoff_datetime  passenger_count  \\\n",
       "0       VTS 2010-01-26 07:41:00 2010-01-26 07:45:00                1   \n",
       "1       DDS 2010-01-30 23:31:00 2010-01-30 23:46:12                1   \n",
       "2       DDS 2010-01-18 20:22:20 2010-01-18 20:38:12                1   \n",
       "3       VTS 2010-01-09 01:18:00 2010-01-09 01:35:00                2   \n",
       "4       CMT 2010-01-18 19:10:14 2010-01-18 19:17:07                1   \n",
       "\n",
       "   trip_distance  pickup_longitude  pickup_latitude  rate_code  \\\n",
       "0           0.75        -73.956778        40.767750          1   \n",
       "1           5.90        -73.996118        40.763932          1   \n",
       "2           4.00        -73.979673        40.783790          1   \n",
       "3           4.70        -73.977922        40.763997          1   \n",
       "4           0.60        -73.990924        40.734682          1   \n",
       "\n",
       "  store_and_fwd_flag  dropoff_longitude  dropoff_latitude payment_type  \\\n",
       "0                NaN         -73.965957         40.765232          CAS   \n",
       "1                NaN         -73.981512         40.741193          CAS   \n",
       "2                NaN         -73.917852         40.878560          CAS   \n",
       "3                NaN         -73.923908         40.759725          CAS   \n",
       "4                  0         -73.995511         40.739088          Cre   \n",
       "\n",
       "   fare_amount  surcharge  mta_tax  tip_amount  tolls_amount  total_amount  \n",
       "0          4.5        0.0      0.5        0.00           0.0          5.00  \n",
       "1         15.3        0.5      0.5        0.00           0.0         16.30  \n",
       "2         11.7        0.5      0.5        0.00           0.0         12.70  \n",
       "3         13.3        0.5      0.5        0.00           0.0         14.30  \n",
       "4          5.3        0.0      0.5        0.87           0.0          6.67  "
      ]
     },
     "execution_count": 23,
     "metadata": {},
     "output_type": "execute_result"
    }
   ],
   "source": [
    "ddf.head()"
   ]
  },
  {
   "cell_type": "code",
   "execution_count": 24,
   "id": "cd35b034-1ee5-4b3f-9797-9bf173f346d4",
   "metadata": {},
   "outputs": [
    {
     "name": "stdout",
     "output_type": "stream",
     "text": [
      "CPU times: user 666 ms, sys: 75.4 ms, total: 741 ms\n",
      "Wall time: 39.6 s\n"
     ]
    },
    {
     "data": {
      "text/html": [
       "<div>\n",
       "<style scoped>\n",
       "    .dataframe tbody tr th:only-of-type {\n",
       "        vertical-align: middle;\n",
       "    }\n",
       "\n",
       "    .dataframe tbody tr th {\n",
       "        vertical-align: top;\n",
       "    }\n",
       "\n",
       "    .dataframe thead th {\n",
       "        text-align: right;\n",
       "    }\n",
       "</style>\n",
       "<table border=\"1\" class=\"dataframe\">\n",
       "  <thead>\n",
       "    <tr style=\"text-align: right;\">\n",
       "      <th></th>\n",
       "      <th>passenger_count</th>\n",
       "      <th>trip_distance</th>\n",
       "      <th>pickup_longitude</th>\n",
       "      <th>pickup_latitude</th>\n",
       "      <th>rate_code</th>\n",
       "      <th>dropoff_longitude</th>\n",
       "      <th>dropoff_latitude</th>\n",
       "      <th>fare_amount</th>\n",
       "      <th>surcharge</th>\n",
       "      <th>mta_tax</th>\n",
       "      <th>tip_amount</th>\n",
       "      <th>tolls_amount</th>\n",
       "      <th>total_amount</th>\n",
       "    </tr>\n",
       "  </thead>\n",
       "  <tbody>\n",
       "    <tr>\n",
       "      <th>count</th>\n",
       "      <td>1.689944e+08</td>\n",
       "      <td>1.689944e+08</td>\n",
       "      <td>1.689944e+08</td>\n",
       "      <td>1.689944e+08</td>\n",
       "      <td>1.689944e+08</td>\n",
       "      <td>1.689942e+08</td>\n",
       "      <td>1.689942e+08</td>\n",
       "      <td>1.689944e+08</td>\n",
       "      <td>1.689944e+08</td>\n",
       "      <td>1.689944e+08</td>\n",
       "      <td>1.689944e+08</td>\n",
       "      <td>1.689944e+08</td>\n",
       "      <td>1.689944e+08</td>\n",
       "    </tr>\n",
       "    <tr>\n",
       "      <th>mean</th>\n",
       "      <td>1.674221e+00</td>\n",
       "      <td>5.864681e+00</td>\n",
       "      <td>-7.239051e+01</td>\n",
       "      <td>3.988347e+01</td>\n",
       "      <td>1.032463e+00</td>\n",
       "      <td>-7.241661e+01</td>\n",
       "      <td>3.989821e+01</td>\n",
       "      <td>9.844589e+00</td>\n",
       "      <td>3.221727e-01</td>\n",
       "      <td>4.955940e-01</td>\n",
       "      <td>7.605548e-01</td>\n",
       "      <td>-7.496016e-02</td>\n",
       "      <td>1.135107e+01</td>\n",
       "    </tr>\n",
       "    <tr>\n",
       "      <th>std</th>\n",
       "      <td>1.300666e+00</td>\n",
       "      <td>5.409394e+03</td>\n",
       "      <td>1.102328e+01</td>\n",
       "      <td>7.053625e+00</td>\n",
       "      <td>4.236116e-01</td>\n",
       "      <td>1.089876e+01</td>\n",
       "      <td>7.027043e+00</td>\n",
       "      <td>1.664848e+03</td>\n",
       "      <td>3.693486e-01</td>\n",
       "      <td>1.345498e-01</td>\n",
       "      <td>1.735413e+02</td>\n",
       "      <td>2.336194e+03</td>\n",
       "      <td>2.873962e+03</td>\n",
       "    </tr>\n",
       "    <tr>\n",
       "      <th>min</th>\n",
       "      <td>0.000000e+00</td>\n",
       "      <td>-2.147483e+07</td>\n",
       "      <td>-3.509015e+03</td>\n",
       "      <td>-3.579139e+03</td>\n",
       "      <td>0.000000e+00</td>\n",
       "      <td>-3.579139e+03</td>\n",
       "      <td>-3.538432e+03</td>\n",
       "      <td>-2.147481e+07</td>\n",
       "      <td>-1.000000e+00</td>\n",
       "      <td>-1.000000e+00</td>\n",
       "      <td>-1.677720e+06</td>\n",
       "      <td>-2.147484e+07</td>\n",
       "      <td>-2.147483e+07</td>\n",
       "    </tr>\n",
       "    <tr>\n",
       "      <th>25%</th>\n",
       "      <td>1.000000e+00</td>\n",
       "      <td>1.090000e+00</td>\n",
       "      <td>-7.399139e+01</td>\n",
       "      <td>4.073673e+01</td>\n",
       "      <td>1.000000e+00</td>\n",
       "      <td>-7.399071e+01</td>\n",
       "      <td>4.073553e+01</td>\n",
       "      <td>5.700000e+00</td>\n",
       "      <td>0.000000e+00</td>\n",
       "      <td>5.000000e-01</td>\n",
       "      <td>0.000000e+00</td>\n",
       "      <td>0.000000e+00</td>\n",
       "      <td>7.000000e+00</td>\n",
       "    </tr>\n",
       "    <tr>\n",
       "      <th>50%</th>\n",
       "      <td>1.000000e+00</td>\n",
       "      <td>1.800000e+00</td>\n",
       "      <td>-7.398101e+01</td>\n",
       "      <td>4.075392e+01</td>\n",
       "      <td>1.000000e+00</td>\n",
       "      <td>-7.397925e+01</td>\n",
       "      <td>4.075437e+01</td>\n",
       "      <td>8.100000e+00</td>\n",
       "      <td>5.000000e-01</td>\n",
       "      <td>5.000000e-01</td>\n",
       "      <td>0.000000e+00</td>\n",
       "      <td>0.000000e+00</td>\n",
       "      <td>9.540000e+00</td>\n",
       "    </tr>\n",
       "    <tr>\n",
       "      <th>75%</th>\n",
       "      <td>3.000000e+00</td>\n",
       "      <td>3.250000e+00</td>\n",
       "      <td>-7.396582e+01</td>\n",
       "      <td>4.076844e+01</td>\n",
       "      <td>1.000000e+00</td>\n",
       "      <td>-7.396257e+01</td>\n",
       "      <td>4.076894e+01</td>\n",
       "      <td>1.210000e+01</td>\n",
       "      <td>5.000000e-01</td>\n",
       "      <td>5.000000e-01</td>\n",
       "      <td>1.600000e+00</td>\n",
       "      <td>0.000000e+00</td>\n",
       "      <td>1.380000e+01</td>\n",
       "    </tr>\n",
       "    <tr>\n",
       "      <th>max</th>\n",
       "      <td>2.550000e+02</td>\n",
       "      <td>1.620163e+07</td>\n",
       "      <td>3.569931e+03</td>\n",
       "      <td>3.377993e+03</td>\n",
       "      <td>2.210000e+02</td>\n",
       "      <td>3.443651e+03</td>\n",
       "      <td>3.510381e+03</td>\n",
       "      <td>9.396007e+04</td>\n",
       "      <td>6.157800e+02</td>\n",
       "      <td>1.311220e+03</td>\n",
       "      <td>9.380200e+02</td>\n",
       "      <td>5.510070e+03</td>\n",
       "      <td>9.396057e+04</td>\n",
       "    </tr>\n",
       "  </tbody>\n",
       "</table>\n",
       "</div>"
      ],
      "text/plain": [
       "       passenger_count  trip_distance  pickup_longitude  pickup_latitude  \\\n",
       "count     1.689944e+08   1.689944e+08      1.689944e+08     1.689944e+08   \n",
       "mean      1.674221e+00   5.864681e+00     -7.239051e+01     3.988347e+01   \n",
       "std       1.300666e+00   5.409394e+03      1.102328e+01     7.053625e+00   \n",
       "min       0.000000e+00  -2.147483e+07     -3.509015e+03    -3.579139e+03   \n",
       "25%       1.000000e+00   1.090000e+00     -7.399139e+01     4.073673e+01   \n",
       "50%       1.000000e+00   1.800000e+00     -7.398101e+01     4.075392e+01   \n",
       "75%       3.000000e+00   3.250000e+00     -7.396582e+01     4.076844e+01   \n",
       "max       2.550000e+02   1.620163e+07      3.569931e+03     3.377993e+03   \n",
       "\n",
       "          rate_code  dropoff_longitude  dropoff_latitude   fare_amount  \\\n",
       "count  1.689944e+08       1.689942e+08      1.689942e+08  1.689944e+08   \n",
       "mean   1.032463e+00      -7.241661e+01      3.989821e+01  9.844589e+00   \n",
       "std    4.236116e-01       1.089876e+01      7.027043e+00  1.664848e+03   \n",
       "min    0.000000e+00      -3.579139e+03     -3.538432e+03 -2.147481e+07   \n",
       "25%    1.000000e+00      -7.399071e+01      4.073553e+01  5.700000e+00   \n",
       "50%    1.000000e+00      -7.397925e+01      4.075437e+01  8.100000e+00   \n",
       "75%    1.000000e+00      -7.396257e+01      4.076894e+01  1.210000e+01   \n",
       "max    2.210000e+02       3.443651e+03      3.510381e+03  9.396007e+04   \n",
       "\n",
       "          surcharge       mta_tax    tip_amount  tolls_amount  total_amount  \n",
       "count  1.689944e+08  1.689944e+08  1.689944e+08  1.689944e+08  1.689944e+08  \n",
       "mean   3.221727e-01  4.955940e-01  7.605548e-01 -7.496016e-02  1.135107e+01  \n",
       "std    3.693486e-01  1.345498e-01  1.735413e+02  2.336194e+03  2.873962e+03  \n",
       "min   -1.000000e+00 -1.000000e+00 -1.677720e+06 -2.147484e+07 -2.147483e+07  \n",
       "25%    0.000000e+00  5.000000e-01  0.000000e+00  0.000000e+00  7.000000e+00  \n",
       "50%    5.000000e-01  5.000000e-01  0.000000e+00  0.000000e+00  9.540000e+00  \n",
       "75%    5.000000e-01  5.000000e-01  1.600000e+00  0.000000e+00  1.380000e+01  \n",
       "max    6.157800e+02  1.311220e+03  9.380200e+02  5.510070e+03  9.396057e+04  "
      ]
     },
     "execution_count": 24,
     "metadata": {},
     "output_type": "execute_result"
    }
   ],
   "source": [
    "%%time\n",
    "# calculate .describe() to check for dtype issues\n",
    "ddf.describe().compute()"
   ]
  },
  {
   "cell_type": "code",
   "execution_count": 25,
   "id": "6afb58a1-c62a-4978-b270-1918faae9f74",
   "metadata": {},
   "outputs": [
    {
     "data": {
      "text/plain": [
       "vendor_id              True\n",
       "pickup_datetime        True\n",
       "dropoff_datetime       True\n",
       "passenger_count        True\n",
       "trip_distance          True\n",
       "pickup_longitude       True\n",
       "pickup_latitude        True\n",
       "rate_code             False\n",
       "store_and_fwd_flag     True\n",
       "dropoff_longitude      True\n",
       "dropoff_latitude       True\n",
       "payment_type           True\n",
       "fare_amount            True\n",
       "surcharge              True\n",
       "mta_tax                True\n",
       "tip_amount             True\n",
       "tolls_amount           True\n",
       "total_amount           True\n",
       "dtype: bool"
      ]
     },
     "execution_count": 25,
     "metadata": {},
     "output_type": "execute_result"
    },
    {
     "name": "stderr",
     "output_type": "stream",
     "text": [
      "distributed.client - ERROR - Failed to reconnect to scheduler after 30.00 seconds, closing client\n",
      "_GatheringFuture exception was never retrieved\n",
      "future: <_GatheringFuture finished exception=CancelledError()>\n",
      "asyncio.exceptions.CancelledError\n",
      "distributed.deploy.cluster - WARNING - Failed to sync cluster info multiple times - perhaps there's a connection issue? Error:\n",
      "Traceback (most recent call last):\n",
      "  File \"/Users/rpelgrim/mambaforge/envs/dask-dataframe/lib/python3.9/site-packages/distributed/comm/tcp.py\", line 409, in connect\n",
      "    stream = await self.client.connect(\n",
      "  File \"/Users/rpelgrim/mambaforge/envs/dask-dataframe/lib/python3.9/site-packages/tornado/tcpclient.py\", line 275, in connect\n",
      "    af, addr, stream = await connector.start(connect_timeout=timeout)\n",
      "asyncio.exceptions.CancelledError\n",
      "\n",
      "During handling of the above exception, another exception occurred:\n",
      "\n",
      "Traceback (most recent call last):\n",
      "  File \"/Users/rpelgrim/mambaforge/envs/dask-dataframe/lib/python3.9/asyncio/tasks.py\", line 490, in wait_for\n",
      "    return fut.result()\n",
      "asyncio.exceptions.CancelledError\n",
      "\n",
      "The above exception was the direct cause of the following exception:\n",
      "\n",
      "Traceback (most recent call last):\n",
      "  File \"/Users/rpelgrim/mambaforge/envs/dask-dataframe/lib/python3.9/site-packages/distributed/comm/core.py\", line 289, in connect\n",
      "    comm = await asyncio.wait_for(\n",
      "  File \"/Users/rpelgrim/mambaforge/envs/dask-dataframe/lib/python3.9/asyncio/tasks.py\", line 492, in wait_for\n",
      "    raise exceptions.TimeoutError() from exc\n",
      "asyncio.exceptions.TimeoutError\n",
      "\n",
      "The above exception was the direct cause of the following exception:\n",
      "\n",
      "Traceback (most recent call last):\n",
      "  File \"/Users/rpelgrim/mambaforge/envs/dask-dataframe/lib/python3.9/site-packages/distributed/deploy/cluster.py\", line 131, in _sync_cluster_info\n",
      "    await self.scheduler_comm.set_metadata(\n",
      "  File \"/Users/rpelgrim/mambaforge/envs/dask-dataframe/lib/python3.9/site-packages/distributed/core.py\", line 822, in send_recv_from_rpc\n",
      "    comm = await self.live_comm()\n",
      "  File \"/Users/rpelgrim/mambaforge/envs/dask-dataframe/lib/python3.9/site-packages/distributed/core.py\", line 779, in live_comm\n",
      "    comm = await connect(\n",
      "  File \"/Users/rpelgrim/mambaforge/envs/dask-dataframe/lib/python3.9/site-packages/distributed/comm/core.py\", line 313, in connect\n",
      "    raise OSError(\n",
      "OSError: Timed out trying to connect to tls://3.235.88.237:8786 after 30 s\n"
     ]
    }
   ],
   "source": [
    "# verify dtypes and column names are identical for 2009 and 2010\n",
    "dtypes_2010 = ddf.dtypes\n",
    "dtypes_2009 == dtypes_2010"
   ]
  },
  {
   "cell_type": "code",
   "execution_count": 17,
   "id": "26a3c28f-79e2-4857-82da-e0fc1cbf27c6",
   "metadata": {},
   "outputs": [
    {
     "data": {
      "text/plain": [
       "[None]"
      ]
     },
     "execution_count": 17,
     "metadata": {},
     "output_type": "execute_result"
    }
   ],
   "source": [
    "# repartition and write 2010 data to Parquet \n",
    "ddf.repartition(partition_size=\"100MB\").to_parquet(\n",
    "    \"s3://coiled-datasets/dask-book/nyc-tlc/2010\",\n",
    "    engine=\"pyarrow\",\n",
    "    compression=\"snappy\",\n",
    "    write_metadata_file=False,\n",
    ")"
   ]
  },
  {
   "cell_type": "code",
   "execution_count": null,
   "id": "878a3df5-9f21-458a-b615-b1959b2ffec8",
   "metadata": {},
   "outputs": [],
   "source": [
    "ddf = dd.read_parquet(\n",
    "    \"s3://coiled-datasets/dask-book/nyc-tlc/2010\", \n",
    "    engine=\"pyarrow\"\n",
    ")"
   ]
  },
  {
   "cell_type": "code",
   "execution_count": null,
   "id": "7b4d6639-b5e8-4057-b4d7-7078397c3780",
   "metadata": {},
   "outputs": [],
   "source": [
    "# check datatypes are stored correctly in Parquet file\n",
    "dtypes_2010 == ddf.dtypes"
   ]
  },
  {
   "cell_type": "markdown",
   "id": "7afbc53f-4efa-4b71-a519-721775c3eded",
   "metadata": {},
   "source": [
    "## 2011 data create"
   ]
  },
  {
   "cell_type": "code",
   "execution_count": 25,
   "id": "83190b94-2228-4131-98b4-de07ebbab1f0",
   "metadata": {},
   "outputs": [],
   "source": [
    "ddf = dd.read_csv(\n",
    "    \"s3://nyc-tlc/trip data/yellow_tripdata_2011-*.csv\",\n",
    "    parse_dates=[\"pickup_datetime\", \"dropoff_datetime\"],\n",
    "    dtype={\n",
    "        \"tip_amount\": \"float64\",\n",
    "        \"tolls_amount\": \"float64\",\n",
    "        # \"vendor_name\": \"string[pyarrow]\",\n",
    "        # \"Payment_Type\": \"string[pyarrow]\",\n",
    "    },\n",
    ")"
   ]
  },
  {
   "cell_type": "code",
   "execution_count": 26,
   "id": "207cbb55-9707-4941-9b1e-7dd46047b8de",
   "metadata": {},
   "outputs": [
    {
     "data": {
      "text/plain": [
       "vendor_id                     object\n",
       "pickup_datetime       datetime64[ns]\n",
       "dropoff_datetime      datetime64[ns]\n",
       "passenger_count                int64\n",
       "trip_distance                float64\n",
       "pickup_longitude             float64\n",
       "pickup_latitude              float64\n",
       "rate_code                      int64\n",
       "store_and_fwd_flag            object\n",
       "dropoff_longitude            float64\n",
       "dropoff_latitude             float64\n",
       "payment_type                  object\n",
       "fare_amount                  float64\n",
       "surcharge                    float64\n",
       "mta_tax                      float64\n",
       "tip_amount                   float64\n",
       "tolls_amount                 float64\n",
       "total_amount                 float64\n",
       "dtype: object"
      ]
     },
     "execution_count": 26,
     "metadata": {},
     "output_type": "execute_result"
    }
   ],
   "source": [
    "ddf.dtypes"
   ]
  },
  {
   "cell_type": "code",
   "execution_count": 27,
   "id": "3be6274a-9a98-454e-bec6-922c3a932f2f",
   "metadata": {},
   "outputs": [
    {
     "data": {
      "text/plain": [
       "vendor_id             True\n",
       "pickup_datetime       True\n",
       "dropoff_datetime      True\n",
       "passenger_count       True\n",
       "trip_distance         True\n",
       "pickup_longitude      True\n",
       "pickup_latitude       True\n",
       "rate_code             True\n",
       "store_and_fwd_flag    True\n",
       "dropoff_longitude     True\n",
       "dropoff_latitude      True\n",
       "payment_type          True\n",
       "fare_amount           True\n",
       "surcharge             True\n",
       "mta_tax               True\n",
       "tip_amount            True\n",
       "tolls_amount          True\n",
       "total_amount          True\n",
       "dtype: bool"
      ]
     },
     "execution_count": 27,
     "metadata": {},
     "output_type": "execute_result"
    },
    {
     "name": "stderr",
     "output_type": "stream",
     "text": [
      "distributed.client - ERROR - Failed to reconnect to scheduler after 30.00 seconds, closing client\n",
      "_GatheringFuture exception was never retrieved\n",
      "future: <_GatheringFuture finished exception=CancelledError()>\n",
      "asyncio.exceptions.CancelledError\n",
      "distributed.deploy.cluster - WARNING - Failed to sync cluster info multiple times - perhaps there's a connection issue? Error:\n",
      "Traceback (most recent call last):\n",
      "  File \"/Users/rpelgrim/mambaforge/envs/dask-dataframe/lib/python3.9/site-packages/distributed/comm/tcp.py\", line 409, in connect\n",
      "    stream = await self.client.connect(\n",
      "  File \"/Users/rpelgrim/mambaforge/envs/dask-dataframe/lib/python3.9/site-packages/tornado/tcpclient.py\", line 275, in connect\n",
      "    af, addr, stream = await connector.start(connect_timeout=timeout)\n",
      "asyncio.exceptions.CancelledError\n",
      "\n",
      "During handling of the above exception, another exception occurred:\n",
      "\n",
      "Traceback (most recent call last):\n",
      "  File \"/Users/rpelgrim/mambaforge/envs/dask-dataframe/lib/python3.9/asyncio/tasks.py\", line 490, in wait_for\n",
      "    return fut.result()\n",
      "asyncio.exceptions.CancelledError\n",
      "\n",
      "The above exception was the direct cause of the following exception:\n",
      "\n",
      "Traceback (most recent call last):\n",
      "  File \"/Users/rpelgrim/mambaforge/envs/dask-dataframe/lib/python3.9/site-packages/distributed/comm/core.py\", line 289, in connect\n",
      "    comm = await asyncio.wait_for(\n",
      "  File \"/Users/rpelgrim/mambaforge/envs/dask-dataframe/lib/python3.9/asyncio/tasks.py\", line 492, in wait_for\n",
      "    raise exceptions.TimeoutError() from exc\n",
      "asyncio.exceptions.TimeoutError\n",
      "\n",
      "The above exception was the direct cause of the following exception:\n",
      "\n",
      "Traceback (most recent call last):\n",
      "  File \"/Users/rpelgrim/mambaforge/envs/dask-dataframe/lib/python3.9/site-packages/distributed/deploy/cluster.py\", line 131, in _sync_cluster_info\n",
      "    await self.scheduler_comm.set_metadata(\n",
      "  File \"/Users/rpelgrim/mambaforge/envs/dask-dataframe/lib/python3.9/site-packages/distributed/core.py\", line 822, in send_recv_from_rpc\n",
      "    comm = await self.live_comm()\n",
      "  File \"/Users/rpelgrim/mambaforge/envs/dask-dataframe/lib/python3.9/site-packages/distributed/core.py\", line 779, in live_comm\n",
      "    comm = await connect(\n",
      "  File \"/Users/rpelgrim/mambaforge/envs/dask-dataframe/lib/python3.9/site-packages/distributed/comm/core.py\", line 313, in connect\n",
      "    raise OSError(\n",
      "OSError: Timed out trying to connect to tls://44.197.190.22:8786 after 30 s\n"
     ]
    }
   ],
   "source": [
    "# verify data types are identical to those in 2010 dataset\n",
    "dtypes_2010 == ddf.dtypes"
   ]
  },
  {
   "cell_type": "code",
   "execution_count": null,
   "id": "f2d18602-a104-43db-9f68-7797bf90b15a",
   "metadata": {},
   "outputs": [],
   "source": []
  },
  {
   "cell_type": "code",
   "execution_count": 17,
   "id": "5474a346-9941-407a-b2c0-ad184f4107e5",
   "metadata": {},
   "outputs": [
    {
     "data": {
      "text/plain": [
       "[None]"
      ]
     },
     "execution_count": 17,
     "metadata": {},
     "output_type": "execute_result"
    }
   ],
   "source": [
    "ddf.repartition(partition_size=\"100MB\").to_parquet(\n",
    "    \"s3://coiled-datasets/dask-book/nyc-tlc/2011\",\n",
    "    engine=\"pyarrow\",\n",
    "    compression=\"snappy\",\n",
    "    write_metadata_file=False,\n",
    ")"
   ]
  },
  {
   "cell_type": "code",
   "execution_count": 12,
   "id": "23b667a4-1e25-42ed-84cc-b9b9caa821cd",
   "metadata": {},
   "outputs": [],
   "source": [
    "ddf = dd.read_parquet(\"s3://coiled-datasets/nyc-tlc/2011\", engine=\"pyarrow\")"
   ]
  },
  {
   "cell_type": "code",
   "execution_count": 13,
   "id": "6ecf581e-2da0-49d2-8d28-de1555da2ac8",
   "metadata": {},
   "outputs": [],
   "source": [
    "actual_dtypes_2011 = ddf.dtypes"
   ]
  },
  {
   "cell_type": "code",
   "execution_count": 15,
   "id": "81ea50c2-2238-4429-820a-dd07633eab7c",
   "metadata": {},
   "outputs": [
    {
     "data": {
      "text/plain": [
       "pandas.core.series.Series"
      ]
     },
     "execution_count": 15,
     "metadata": {},
     "output_type": "execute_result"
    }
   ],
   "source": [
    "type(actual_dtypes_2011)"
   ]
  },
  {
   "cell_type": "code",
   "execution_count": 21,
   "id": "c5cbe1dc-56ac-48ba-9d0e-2ebff3dbef46",
   "metadata": {},
   "outputs": [
    {
     "data": {
      "text/plain": [
       "vendor_id                     object\n",
       "pickup_datetime       datetime64[ns]\n",
       "dropoff_datetime      datetime64[ns]\n",
       "passenger_count                int64\n",
       "trip_distance                float64\n",
       "pickup_longitude             float64\n",
       "pickup_latitude              float64\n",
       "rate_code                      int64\n",
       "store_and_fwd_flag            object\n",
       "dropoff_longitude            float64\n",
       "dropoff_latitude             float64\n",
       "payment_type                  object\n",
       "fare_amount                  float64\n",
       "surcharge                    float64\n",
       "mta_tax                      float64\n",
       "tip_amount                   float64\n",
       "tolls_amount                 float64\n",
       "total_amount                 float64\n",
       "dtype: object"
      ]
     },
     "execution_count": 21,
     "metadata": {},
     "output_type": "execute_result"
    }
   ],
   "source": [
    "actual_dtypes_2011"
   ]
  },
  {
   "cell_type": "code",
   "execution_count": 20,
   "id": "6cf65d9d-d633-45fe-8785-d0b418a94cc1",
   "metadata": {},
   "outputs": [
    {
     "data": {
      "text/plain": [
       "vendor_id             True\n",
       "pickup_datetime       True\n",
       "dropoff_datetime      True\n",
       "passenger_count       True\n",
       "trip_distance         True\n",
       "pickup_longitude      True\n",
       "pickup_latitude       True\n",
       "rate_code             True\n",
       "store_and_fwd_flag    True\n",
       "dropoff_longitude     True\n",
       "dropoff_latitude      True\n",
       "payment_type          True\n",
       "fare_amount           True\n",
       "surcharge             True\n",
       "mta_tax               True\n",
       "tip_amount            True\n",
       "tolls_amount          True\n",
       "total_amount          True\n",
       "dtype: bool"
      ]
     },
     "execution_count": 20,
     "metadata": {},
     "output_type": "execute_result"
    }
   ],
   "source": [
    "actual_dtypes_2011 == actual_dtypes_2010"
   ]
  },
  {
   "cell_type": "markdown",
   "id": "81cc4b1e-b0bb-471f-8631-51fc80193a75",
   "metadata": {},
   "source": [
    "## 2012 Data Create"
   ]
  },
  {
   "cell_type": "code",
   "execution_count": 22,
   "id": "917a29a3-b6ef-4a04-ab7b-9e8a24036cf6",
   "metadata": {},
   "outputs": [],
   "source": [
    "ddf = dd.read_csv(\n",
    "    \"s3://nyc-tlc/trip data/yellow_tripdata_2012-*.csv\",\n",
    "    parse_dates=[\"pickup_datetime\", \"dropoff_datetime\"],\n",
    "    dtype={\n",
    "        \"tip_amount\": \"float64\",\n",
    "        \"tolls_amount\": \"float64\",\n",
    "    },\n",
    ")"
   ]
  },
  {
   "cell_type": "code",
   "execution_count": 23,
   "id": "53b190f2-7bc0-4df3-abfd-77c6e6e258e8",
   "metadata": {},
   "outputs": [
    {
     "data": {
      "text/plain": [
       "vendor_id                     object\n",
       "pickup_datetime       datetime64[ns]\n",
       "dropoff_datetime      datetime64[ns]\n",
       "passenger_count                int64\n",
       "trip_distance                float64\n",
       "pickup_longitude             float64\n",
       "pickup_latitude              float64\n",
       "rate_code                      int64\n",
       "store_and_fwd_flag            object\n",
       "dropoff_longitude            float64\n",
       "dropoff_latitude             float64\n",
       "payment_type                  object\n",
       "fare_amount                  float64\n",
       "surcharge                    float64\n",
       "mta_tax                      float64\n",
       "tip_amount                   float64\n",
       "tolls_amount                 float64\n",
       "total_amount                 float64\n",
       "dtype: object"
      ]
     },
     "execution_count": 23,
     "metadata": {},
     "output_type": "execute_result"
    }
   ],
   "source": [
    "ddf.dtypes"
   ]
  },
  {
   "cell_type": "code",
   "execution_count": 24,
   "id": "9133c661-5a84-4e6a-8b30-60e50ddf1460",
   "metadata": {},
   "outputs": [
    {
     "data": {
      "text/plain": [
       "vendor_id             True\n",
       "pickup_datetime       True\n",
       "dropoff_datetime      True\n",
       "passenger_count       True\n",
       "trip_distance         True\n",
       "pickup_longitude      True\n",
       "pickup_latitude       True\n",
       "rate_code             True\n",
       "store_and_fwd_flag    True\n",
       "dropoff_longitude     True\n",
       "dropoff_latitude      True\n",
       "payment_type          True\n",
       "fare_amount           True\n",
       "surcharge             True\n",
       "mta_tax               True\n",
       "tip_amount            True\n",
       "tolls_amount          True\n",
       "total_amount          True\n",
       "dtype: bool"
      ]
     },
     "execution_count": 24,
     "metadata": {},
     "output_type": "execute_result"
    }
   ],
   "source": [
    "ddf.dtypes == actual_dtypes_2010"
   ]
  },
  {
   "cell_type": "code",
   "execution_count": 25,
   "id": "3c9375f8-86e0-4fac-b0e9-e5ba5a9b5453",
   "metadata": {},
   "outputs": [
    {
     "data": {
      "text/plain": [
       "[None]"
      ]
     },
     "execution_count": 25,
     "metadata": {},
     "output_type": "execute_result"
    }
   ],
   "source": [
    "ddf.repartition(partition_size=\"100MB\").to_parquet(\n",
    "    \"s3://coiled-datasets/nyc-tlc/2012\",\n",
    "    engine=\"pyarrow\",\n",
    "    compression=\"snappy\",\n",
    "    write_metadata_file=False,\n",
    ")"
   ]
  },
  {
   "cell_type": "markdown",
   "id": "d88fb403-f60f-4042-a1f4-7c3638f46f2a",
   "metadata": {},
   "source": [
    "## 2013 Data Create"
   ]
  },
  {
   "cell_type": "code",
   "execution_count": 26,
   "id": "5e91a36e-1d28-4a3d-b6d5-d0befd92807f",
   "metadata": {},
   "outputs": [],
   "source": [
    "ddf = dd.read_csv(\n",
    "    \"s3://nyc-tlc/trip data/yellow_tripdata_2013-*.csv\",\n",
    "    parse_dates=[\"pickup_datetime\", \"dropoff_datetime\"],\n",
    "    dtype={\n",
    "        \"tip_amount\": \"float64\",\n",
    "        \"tolls_amount\": \"float64\",\n",
    "    },\n",
    ")"
   ]
  },
  {
   "cell_type": "code",
   "execution_count": 27,
   "id": "4ccd157b-d84d-4ba3-b139-a03978b94212",
   "metadata": {},
   "outputs": [
    {
     "data": {
      "text/plain": [
       "vendor_id             True\n",
       "pickup_datetime       True\n",
       "dropoff_datetime      True\n",
       "passenger_count       True\n",
       "trip_distance         True\n",
       "pickup_longitude      True\n",
       "pickup_latitude       True\n",
       "rate_code             True\n",
       "store_and_fwd_flag    True\n",
       "dropoff_longitude     True\n",
       "dropoff_latitude      True\n",
       "payment_type          True\n",
       "fare_amount           True\n",
       "surcharge             True\n",
       "mta_tax               True\n",
       "tip_amount            True\n",
       "tolls_amount          True\n",
       "total_amount          True\n",
       "dtype: bool"
      ]
     },
     "execution_count": 27,
     "metadata": {},
     "output_type": "execute_result"
    }
   ],
   "source": [
    "ddf.dtypes == actual_dtypes_2010"
   ]
  },
  {
   "cell_type": "code",
   "execution_count": 28,
   "id": "9fd254b4-f90c-4f1e-9d1e-99a0a6d6e66b",
   "metadata": {},
   "outputs": [
    {
     "data": {
      "text/plain": [
       "18"
      ]
     },
     "execution_count": 28,
     "metadata": {},
     "output_type": "execute_result"
    }
   ],
   "source": [
    "len(ddf.dtypes)"
   ]
  },
  {
   "cell_type": "code",
   "execution_count": 29,
   "id": "7dfede8b-413d-4fe9-b1ac-a915e7a3cba2",
   "metadata": {},
   "outputs": [
    {
     "data": {
      "text/plain": [
       "vendor_id                     object\n",
       "pickup_datetime       datetime64[ns]\n",
       "dropoff_datetime      datetime64[ns]\n",
       "passenger_count                int64\n",
       "trip_distance                float64\n",
       "pickup_longitude             float64\n",
       "pickup_latitude              float64\n",
       "rate_code                      int64\n",
       "store_and_fwd_flag            object\n",
       "dropoff_longitude            float64\n",
       "dropoff_latitude             float64\n",
       "payment_type                  object\n",
       "fare_amount                  float64\n",
       "surcharge                    float64\n",
       "mta_tax                      float64\n",
       "tip_amount                   float64\n",
       "tolls_amount                 float64\n",
       "total_amount                 float64\n",
       "dtype: object"
      ]
     },
     "execution_count": 29,
     "metadata": {},
     "output_type": "execute_result"
    }
   ],
   "source": [
    "ddf.dtypes"
   ]
  },
  {
   "cell_type": "code",
   "execution_count": 30,
   "id": "571b0aba-ccdb-408e-b167-915d1403b27b",
   "metadata": {},
   "outputs": [
    {
     "data": {
      "text/plain": [
       "[None]"
      ]
     },
     "execution_count": 30,
     "metadata": {},
     "output_type": "execute_result"
    }
   ],
   "source": [
    "ddf.repartition(partition_size=\"100MB\").to_parquet(\n",
    "    \"s3://coiled-datasets/nyc-tlc/2013\",\n",
    "    engine=\"pyarrow\",\n",
    "    compression=\"snappy\",\n",
    "    write_metadata_file=False,\n",
    ")"
   ]
  },
  {
   "cell_type": "markdown",
   "id": "913624be-4256-4c58-b3e7-503086cbe9c2",
   "metadata": {},
   "source": [
    "## 2019 Data Create"
   ]
  },
  {
   "cell_type": "code",
   "execution_count": 4,
   "id": "e123b39e-81ec-46e2-869f-838e541b9993",
   "metadata": {},
   "outputs": [],
   "source": [
    "ddf = dd.read_csv(\n",
    "    \"s3://nyc-tlc/trip data/yellow_tripdata_2019-*.csv\",\n",
    "    parse_dates=[\"tpep_pickup_datetime\", \"tpep_dropoff_datetime\"],\n",
    "    dtype={\n",
    "        \"RatecodeID\": \"float64\",\n",
    "        \"VendorID\": \"float64\",\n",
    "        \"passenger_count\": \"float64\",\n",
    "        \"payment_type\": \"object\",\n",
    "    },\n",
    ")"
   ]
  },
  {
   "cell_type": "code",
   "execution_count": 6,
   "id": "d4a59b36-d754-49af-864a-abbc292ae0d7",
   "metadata": {},
   "outputs": [
    {
     "data": {
      "text/plain": [
       "VendorID                        float64\n",
       "tpep_pickup_datetime     datetime64[ns]\n",
       "tpep_dropoff_datetime    datetime64[ns]\n",
       "passenger_count                 float64\n",
       "trip_distance                   float64\n",
       "RatecodeID                      float64\n",
       "store_and_fwd_flag               object\n",
       "PULocationID                      int64\n",
       "DOLocationID                      int64\n",
       "payment_type                     object\n",
       "fare_amount                     float64\n",
       "extra                           float64\n",
       "mta_tax                         float64\n",
       "tip_amount                      float64\n",
       "tolls_amount                    float64\n",
       "improvement_surcharge           float64\n",
       "total_amount                    float64\n",
       "congestion_surcharge            float64\n",
       "dtype: object"
      ]
     },
     "execution_count": 6,
     "metadata": {},
     "output_type": "execute_result"
    }
   ],
   "source": [
    "ddf.dtypes"
   ]
  },
  {
   "cell_type": "code",
   "execution_count": 16,
   "id": "7982ed3d-286e-40b9-9413-4bc13814aaad",
   "metadata": {},
   "outputs": [
    {
     "data": {
      "text/plain": [
       "[None]"
      ]
     },
     "execution_count": 16,
     "metadata": {},
     "output_type": "execute_result"
    }
   ],
   "source": [
    "ddf.repartition(partition_size=\"100MB\").to_parquet(\n",
    "    \"s3://coiled-datasets/nyc-tlc/2019\",\n",
    "    engine=\"pyarrow\",\n",
    "    compression=\"snappy\",\n",
    "    write_metadata_file=False,\n",
    ")"
   ]
  },
  {
   "cell_type": "code",
   "execution_count": 7,
   "id": "a4aced51-cc1f-411e-8335-a51585f4bc32",
   "metadata": {},
   "outputs": [
    {
     "data": {
      "text/plain": [
       "[None]"
      ]
     },
     "execution_count": 7,
     "metadata": {},
     "output_type": "execute_result"
    }
   ],
   "source": [
    "ddf.repartition(partition_size=\"100MB\").to_parquet(\n",
    "    \"s3://coiled-datasets/nyc-tlc-with-metadata/2019\",\n",
    "    engine=\"pyarrow\",\n",
    "    compression=\"snappy\",\n",
    "    write_metadata_file=True,\n",
    ")"
   ]
  },
  {
   "cell_type": "markdown",
   "id": "3cd22e02-4bee-4b5f-9d49-751b776a4234",
   "metadata": {},
   "source": [
    "## 2020 Data"
   ]
  },
  {
   "cell_type": "code",
   "execution_count": 17,
   "id": "fd8dbc20-aad7-4fcd-bd53-0bd2df1b68b1",
   "metadata": {},
   "outputs": [],
   "source": [
    "ddf = dd.read_csv(\n",
    "    \"s3://nyc-tlc/trip data/yellow_tripdata_2020-*.csv\",\n",
    "    parse_dates=[\"tpep_pickup_datetime\", \"tpep_dropoff_datetime\"],\n",
    "    dtype={\n",
    "        \"RatecodeID\": \"float64\",\n",
    "        \"VendorID\": \"float64\",\n",
    "        \"passenger_count\": \"float64\",\n",
    "        \"payment_type\": \"object\",\n",
    "    },\n",
    ")"
   ]
  },
  {
   "cell_type": "code",
   "execution_count": 18,
   "id": "e48ad56a-82f3-4303-8831-e40fd43269a9",
   "metadata": {},
   "outputs": [
    {
     "data": {
      "text/plain": [
       "VendorID                        float64\n",
       "tpep_pickup_datetime     datetime64[ns]\n",
       "tpep_dropoff_datetime    datetime64[ns]\n",
       "passenger_count                 float64\n",
       "trip_distance                   float64\n",
       "RatecodeID                      float64\n",
       "store_and_fwd_flag               object\n",
       "PULocationID                      int64\n",
       "DOLocationID                      int64\n",
       "payment_type                     object\n",
       "fare_amount                     float64\n",
       "extra                           float64\n",
       "mta_tax                         float64\n",
       "tip_amount                      float64\n",
       "tolls_amount                      int64\n",
       "improvement_surcharge           float64\n",
       "total_amount                    float64\n",
       "congestion_surcharge            float64\n",
       "dtype: object"
      ]
     },
     "execution_count": 18,
     "metadata": {},
     "output_type": "execute_result"
    }
   ],
   "source": [
    "ddf.dtypes"
   ]
  },
  {
   "cell_type": "markdown",
   "id": "e5d939c8-6f9a-4b29-a04c-759f0e483ea9",
   "metadata": {},
   "source": [
    "## Data queries"
   ]
  },
  {
   "cell_type": "code",
   "execution_count": 86,
   "id": "0e721bd1-ae0f-4d5e-b173-d6444943bc6a",
   "metadata": {},
   "outputs": [],
   "source": [
    "ddf2009 = dd.read_parquet(\n",
    "    \"s3://coiled-datasets/nyc-tlc/2009\",\n",
    "    engine=\"pyarrow\",\n",
    ")"
   ]
  },
  {
   "cell_type": "code",
   "execution_count": 87,
   "id": "4b5237d2-0de5-4482-8481-e9f28f6e7efb",
   "metadata": {},
   "outputs": [
    {
     "ename": "OSError",
     "evalue": "[Errno 22] Bad Request",
     "output_type": "error",
     "traceback": [
      "\u001b[0;31m---------------------------------------------------------------------------\u001b[0m",
      "\u001b[0;31mClientError\u001b[0m                               Traceback (most recent call last)",
      "File \u001b[0;32m/opt/conda/envs/coiled/lib/python3.9/site-packages/s3fs/core.py:261\u001b[0m, in \u001b[0;36m_call_s3\u001b[0;34m()\u001b[0m\n",
      "File \u001b[0;32m/opt/conda/envs/coiled/lib/python3.9/site-packages/aiobotocore/client.py:180\u001b[0m, in \u001b[0;36m_make_api_call\u001b[0;34m()\u001b[0m\n",
      "\u001b[0;31mClientError\u001b[0m: An error occurred (400) when calling the HeadObject operation: Bad Request",
      "\nThe above exception was the direct cause of the following exception:\n",
      "\u001b[0;31mOSError\u001b[0m                                   Traceback (most recent call last)",
      "Input \u001b[0;32mIn [87]\u001b[0m, in \u001b[0;36m<module>\u001b[0;34m\u001b[0m\n\u001b[0;32m----> 1\u001b[0m \u001b[38;5;28;43mlen\u001b[39;49m\u001b[43m(\u001b[49m\u001b[43mddf2009\u001b[49m\u001b[43m)\u001b[49m\n",
      "File \u001b[0;32m~/opt/miniconda3/envs/standard-coiled/lib/python3.9/site-packages/dask/dataframe/core.py:4048\u001b[0m, in \u001b[0;36mDataFrame.__len__\u001b[0;34m(self)\u001b[0m\n\u001b[1;32m   4046\u001b[0m     \u001b[38;5;28;01mreturn\u001b[39;00m \u001b[38;5;28msuper\u001b[39m()\u001b[38;5;241m.\u001b[39m\u001b[38;5;21m__len__\u001b[39m()\n\u001b[1;32m   4047\u001b[0m \u001b[38;5;28;01melse\u001b[39;00m:\n\u001b[0;32m-> 4048\u001b[0m     \u001b[38;5;28;01mreturn\u001b[39;00m \u001b[38;5;28;43mlen\u001b[39;49m\u001b[43m(\u001b[49m\u001b[43ms\u001b[49m\u001b[43m)\u001b[49m\n",
      "File \u001b[0;32m~/opt/miniconda3/envs/standard-coiled/lib/python3.9/site-packages/dask/dataframe/core.py:586\u001b[0m, in \u001b[0;36m_Frame.__len__\u001b[0;34m(self)\u001b[0m\n\u001b[1;32m    585\u001b[0m \u001b[38;5;28;01mdef\u001b[39;00m \u001b[38;5;21m__len__\u001b[39m(\u001b[38;5;28mself\u001b[39m):\n\u001b[0;32m--> 586\u001b[0m     \u001b[38;5;28;01mreturn\u001b[39;00m \u001b[38;5;28;43mself\u001b[39;49m\u001b[38;5;241;43m.\u001b[39;49m\u001b[43mreduction\u001b[49m\u001b[43m(\u001b[49m\n\u001b[1;32m    587\u001b[0m \u001b[43m        \u001b[49m\u001b[38;5;28;43mlen\u001b[39;49m\u001b[43m,\u001b[49m\u001b[43m \u001b[49m\u001b[43mnp\u001b[49m\u001b[38;5;241;43m.\u001b[39;49m\u001b[43msum\u001b[49m\u001b[43m,\u001b[49m\u001b[43m \u001b[49m\u001b[43mtoken\u001b[49m\u001b[38;5;241;43m=\u001b[39;49m\u001b[38;5;124;43m\"\u001b[39;49m\u001b[38;5;124;43mlen\u001b[39;49m\u001b[38;5;124;43m\"\u001b[39;49m\u001b[43m,\u001b[49m\u001b[43m \u001b[49m\u001b[43mmeta\u001b[49m\u001b[38;5;241;43m=\u001b[39;49m\u001b[38;5;28;43mint\u001b[39;49m\u001b[43m,\u001b[49m\u001b[43m \u001b[49m\u001b[43msplit_every\u001b[49m\u001b[38;5;241;43m=\u001b[39;49m\u001b[38;5;28;43;01mFalse\u001b[39;49;00m\n\u001b[1;32m    588\u001b[0m \u001b[43m    \u001b[49m\u001b[43m)\u001b[49m\u001b[38;5;241;43m.\u001b[39;49m\u001b[43mcompute\u001b[49m\u001b[43m(\u001b[49m\u001b[43m)\u001b[49m\n",
      "File \u001b[0;32m~/opt/miniconda3/envs/standard-coiled/lib/python3.9/site-packages/dask/base.py:288\u001b[0m, in \u001b[0;36mDaskMethodsMixin.compute\u001b[0;34m(self, **kwargs)\u001b[0m\n\u001b[1;32m    264\u001b[0m \u001b[38;5;28;01mdef\u001b[39;00m \u001b[38;5;21mcompute\u001b[39m(\u001b[38;5;28mself\u001b[39m, \u001b[38;5;241m*\u001b[39m\u001b[38;5;241m*\u001b[39mkwargs):\n\u001b[1;32m    265\u001b[0m     \u001b[38;5;124;03m\"\"\"Compute this dask collection\u001b[39;00m\n\u001b[1;32m    266\u001b[0m \n\u001b[1;32m    267\u001b[0m \u001b[38;5;124;03m    This turns a lazy Dask collection into its in-memory equivalent.\u001b[39;00m\n\u001b[0;32m   (...)\u001b[0m\n\u001b[1;32m    286\u001b[0m \u001b[38;5;124;03m    dask.base.compute\u001b[39;00m\n\u001b[1;32m    287\u001b[0m \u001b[38;5;124;03m    \"\"\"\u001b[39;00m\n\u001b[0;32m--> 288\u001b[0m     (result,) \u001b[38;5;241m=\u001b[39m \u001b[43mcompute\u001b[49m\u001b[43m(\u001b[49m\u001b[38;5;28;43mself\u001b[39;49m\u001b[43m,\u001b[49m\u001b[43m \u001b[49m\u001b[43mtraverse\u001b[49m\u001b[38;5;241;43m=\u001b[39;49m\u001b[38;5;28;43;01mFalse\u001b[39;49;00m\u001b[43m,\u001b[49m\u001b[43m \u001b[49m\u001b[38;5;241;43m*\u001b[39;49m\u001b[38;5;241;43m*\u001b[39;49m\u001b[43mkwargs\u001b[49m\u001b[43m)\u001b[49m\n\u001b[1;32m    289\u001b[0m     \u001b[38;5;28;01mreturn\u001b[39;00m result\n",
      "File \u001b[0;32m~/opt/miniconda3/envs/standard-coiled/lib/python3.9/site-packages/dask/base.py:571\u001b[0m, in \u001b[0;36mcompute\u001b[0;34m(traverse, optimize_graph, scheduler, get, *args, **kwargs)\u001b[0m\n\u001b[1;32m    568\u001b[0m     keys\u001b[38;5;241m.\u001b[39mappend(x\u001b[38;5;241m.\u001b[39m__dask_keys__())\n\u001b[1;32m    569\u001b[0m     postcomputes\u001b[38;5;241m.\u001b[39mappend(x\u001b[38;5;241m.\u001b[39m__dask_postcompute__())\n\u001b[0;32m--> 571\u001b[0m results \u001b[38;5;241m=\u001b[39m \u001b[43mschedule\u001b[49m\u001b[43m(\u001b[49m\u001b[43mdsk\u001b[49m\u001b[43m,\u001b[49m\u001b[43m \u001b[49m\u001b[43mkeys\u001b[49m\u001b[43m,\u001b[49m\u001b[43m \u001b[49m\u001b[38;5;241;43m*\u001b[39;49m\u001b[38;5;241;43m*\u001b[39;49m\u001b[43mkwargs\u001b[49m\u001b[43m)\u001b[49m\n\u001b[1;32m    572\u001b[0m \u001b[38;5;28;01mreturn\u001b[39;00m repack([f(r, \u001b[38;5;241m*\u001b[39ma) \u001b[38;5;28;01mfor\u001b[39;00m r, (f, a) \u001b[38;5;129;01min\u001b[39;00m \u001b[38;5;28mzip\u001b[39m(results, postcomputes)])\n",
      "File \u001b[0;32m~/opt/miniconda3/envs/standard-coiled/lib/python3.9/site-packages/distributed/client.py:2725\u001b[0m, in \u001b[0;36mClient.get\u001b[0;34m(self, dsk, keys, workers, allow_other_workers, resources, sync, asynchronous, direct, retries, priority, fifo_timeout, actors, **kwargs)\u001b[0m\n\u001b[1;32m   2723\u001b[0m         should_rejoin \u001b[38;5;241m=\u001b[39m \u001b[38;5;28;01mFalse\u001b[39;00m\n\u001b[1;32m   2724\u001b[0m \u001b[38;5;28;01mtry\u001b[39;00m:\n\u001b[0;32m-> 2725\u001b[0m     results \u001b[38;5;241m=\u001b[39m \u001b[38;5;28;43mself\u001b[39;49m\u001b[38;5;241;43m.\u001b[39;49m\u001b[43mgather\u001b[49m\u001b[43m(\u001b[49m\u001b[43mpacked\u001b[49m\u001b[43m,\u001b[49m\u001b[43m \u001b[49m\u001b[43masynchronous\u001b[49m\u001b[38;5;241;43m=\u001b[39;49m\u001b[43masynchronous\u001b[49m\u001b[43m,\u001b[49m\u001b[43m \u001b[49m\u001b[43mdirect\u001b[49m\u001b[38;5;241;43m=\u001b[39;49m\u001b[43mdirect\u001b[49m\u001b[43m)\u001b[49m\n\u001b[1;32m   2726\u001b[0m \u001b[38;5;28;01mfinally\u001b[39;00m:\n\u001b[1;32m   2727\u001b[0m     \u001b[38;5;28;01mfor\u001b[39;00m f \u001b[38;5;129;01min\u001b[39;00m futures\u001b[38;5;241m.\u001b[39mvalues():\n",
      "File \u001b[0;32m~/opt/miniconda3/envs/standard-coiled/lib/python3.9/site-packages/distributed/client.py:1980\u001b[0m, in \u001b[0;36mClient.gather\u001b[0;34m(self, futures, errors, direct, asynchronous)\u001b[0m\n\u001b[1;32m   1978\u001b[0m \u001b[38;5;28;01melse\u001b[39;00m:\n\u001b[1;32m   1979\u001b[0m     local_worker \u001b[38;5;241m=\u001b[39m \u001b[38;5;28;01mNone\u001b[39;00m\n\u001b[0;32m-> 1980\u001b[0m \u001b[38;5;28;01mreturn\u001b[39;00m \u001b[38;5;28;43mself\u001b[39;49m\u001b[38;5;241;43m.\u001b[39;49m\u001b[43msync\u001b[49m\u001b[43m(\u001b[49m\n\u001b[1;32m   1981\u001b[0m \u001b[43m    \u001b[49m\u001b[38;5;28;43mself\u001b[39;49m\u001b[38;5;241;43m.\u001b[39;49m\u001b[43m_gather\u001b[49m\u001b[43m,\u001b[49m\n\u001b[1;32m   1982\u001b[0m \u001b[43m    \u001b[49m\u001b[43mfutures\u001b[49m\u001b[43m,\u001b[49m\n\u001b[1;32m   1983\u001b[0m \u001b[43m    \u001b[49m\u001b[43merrors\u001b[49m\u001b[38;5;241;43m=\u001b[39;49m\u001b[43merrors\u001b[49m\u001b[43m,\u001b[49m\n\u001b[1;32m   1984\u001b[0m \u001b[43m    \u001b[49m\u001b[43mdirect\u001b[49m\u001b[38;5;241;43m=\u001b[39;49m\u001b[43mdirect\u001b[49m\u001b[43m,\u001b[49m\n\u001b[1;32m   1985\u001b[0m \u001b[43m    \u001b[49m\u001b[43mlocal_worker\u001b[49m\u001b[38;5;241;43m=\u001b[39;49m\u001b[43mlocal_worker\u001b[49m\u001b[43m,\u001b[49m\n\u001b[1;32m   1986\u001b[0m \u001b[43m    \u001b[49m\u001b[43masynchronous\u001b[49m\u001b[38;5;241;43m=\u001b[39;49m\u001b[43masynchronous\u001b[49m\u001b[43m,\u001b[49m\n\u001b[1;32m   1987\u001b[0m \u001b[43m\u001b[49m\u001b[43m)\u001b[49m\n",
      "File \u001b[0;32m~/opt/miniconda3/envs/standard-coiled/lib/python3.9/site-packages/distributed/client.py:868\u001b[0m, in \u001b[0;36mClient.sync\u001b[0;34m(self, func, asynchronous, callback_timeout, *args, **kwargs)\u001b[0m\n\u001b[1;32m    866\u001b[0m     \u001b[38;5;28;01mreturn\u001b[39;00m future\n\u001b[1;32m    867\u001b[0m \u001b[38;5;28;01melse\u001b[39;00m:\n\u001b[0;32m--> 868\u001b[0m     \u001b[38;5;28;01mreturn\u001b[39;00m \u001b[43msync\u001b[49m\u001b[43m(\u001b[49m\n\u001b[1;32m    869\u001b[0m \u001b[43m        \u001b[49m\u001b[38;5;28;43mself\u001b[39;49m\u001b[38;5;241;43m.\u001b[39;49m\u001b[43mloop\u001b[49m\u001b[43m,\u001b[49m\u001b[43m \u001b[49m\u001b[43mfunc\u001b[49m\u001b[43m,\u001b[49m\u001b[43m \u001b[49m\u001b[38;5;241;43m*\u001b[39;49m\u001b[43margs\u001b[49m\u001b[43m,\u001b[49m\u001b[43m \u001b[49m\u001b[43mcallback_timeout\u001b[49m\u001b[38;5;241;43m=\u001b[39;49m\u001b[43mcallback_timeout\u001b[49m\u001b[43m,\u001b[49m\u001b[43m \u001b[49m\u001b[38;5;241;43m*\u001b[39;49m\u001b[38;5;241;43m*\u001b[39;49m\u001b[43mkwargs\u001b[49m\n\u001b[1;32m    870\u001b[0m \u001b[43m    \u001b[49m\u001b[43m)\u001b[49m\n",
      "File \u001b[0;32m~/opt/miniconda3/envs/standard-coiled/lib/python3.9/site-packages/distributed/utils.py:332\u001b[0m, in \u001b[0;36msync\u001b[0;34m(loop, func, callback_timeout, *args, **kwargs)\u001b[0m\n\u001b[1;32m    330\u001b[0m \u001b[38;5;28;01mif\u001b[39;00m error[\u001b[38;5;241m0\u001b[39m]:\n\u001b[1;32m    331\u001b[0m     typ, exc, tb \u001b[38;5;241m=\u001b[39m error[\u001b[38;5;241m0\u001b[39m]\n\u001b[0;32m--> 332\u001b[0m     \u001b[38;5;28;01mraise\u001b[39;00m exc\u001b[38;5;241m.\u001b[39mwith_traceback(tb)\n\u001b[1;32m    333\u001b[0m \u001b[38;5;28;01melse\u001b[39;00m:\n\u001b[1;32m    334\u001b[0m     \u001b[38;5;28;01mreturn\u001b[39;00m result[\u001b[38;5;241m0\u001b[39m]\n",
      "File \u001b[0;32m~/opt/miniconda3/envs/standard-coiled/lib/python3.9/site-packages/distributed/utils.py:315\u001b[0m, in \u001b[0;36msync.<locals>.f\u001b[0;34m()\u001b[0m\n\u001b[1;32m    313\u001b[0m     \u001b[38;5;28;01mif\u001b[39;00m callback_timeout \u001b[38;5;129;01mis\u001b[39;00m \u001b[38;5;129;01mnot\u001b[39;00m \u001b[38;5;28;01mNone\u001b[39;00m:\n\u001b[1;32m    314\u001b[0m         future \u001b[38;5;241m=\u001b[39m asyncio\u001b[38;5;241m.\u001b[39mwait_for(future, callback_timeout)\n\u001b[0;32m--> 315\u001b[0m     result[\u001b[38;5;241m0\u001b[39m] \u001b[38;5;241m=\u001b[39m \u001b[38;5;28;01myield\u001b[39;00m future\n\u001b[1;32m    316\u001b[0m \u001b[38;5;28;01mexcept\u001b[39;00m \u001b[38;5;167;01mException\u001b[39;00m:\n\u001b[1;32m    317\u001b[0m     error[\u001b[38;5;241m0\u001b[39m] \u001b[38;5;241m=\u001b[39m sys\u001b[38;5;241m.\u001b[39mexc_info()\n",
      "File \u001b[0;32m~/opt/miniconda3/envs/standard-coiled/lib/python3.9/site-packages/tornado/gen.py:762\u001b[0m, in \u001b[0;36mRunner.run\u001b[0;34m(self)\u001b[0m\n\u001b[1;32m    759\u001b[0m exc_info \u001b[38;5;241m=\u001b[39m \u001b[38;5;28;01mNone\u001b[39;00m\n\u001b[1;32m    761\u001b[0m \u001b[38;5;28;01mtry\u001b[39;00m:\n\u001b[0;32m--> 762\u001b[0m     value \u001b[38;5;241m=\u001b[39m \u001b[43mfuture\u001b[49m\u001b[38;5;241;43m.\u001b[39;49m\u001b[43mresult\u001b[49m\u001b[43m(\u001b[49m\u001b[43m)\u001b[49m\n\u001b[1;32m    763\u001b[0m \u001b[38;5;28;01mexcept\u001b[39;00m \u001b[38;5;167;01mException\u001b[39;00m:\n\u001b[1;32m    764\u001b[0m     exc_info \u001b[38;5;241m=\u001b[39m sys\u001b[38;5;241m.\u001b[39mexc_info()\n",
      "File \u001b[0;32m~/opt/miniconda3/envs/standard-coiled/lib/python3.9/site-packages/distributed/client.py:1845\u001b[0m, in \u001b[0;36mClient._gather\u001b[0;34m(self, futures, errors, direct, local_worker)\u001b[0m\n\u001b[1;32m   1843\u001b[0m         exc \u001b[38;5;241m=\u001b[39m CancelledError(key)\n\u001b[1;32m   1844\u001b[0m     \u001b[38;5;28;01melse\u001b[39;00m:\n\u001b[0;32m-> 1845\u001b[0m         \u001b[38;5;28;01mraise\u001b[39;00m exception\u001b[38;5;241m.\u001b[39mwith_traceback(traceback)\n\u001b[1;32m   1846\u001b[0m     \u001b[38;5;28;01mraise\u001b[39;00m exc\n\u001b[1;32m   1847\u001b[0m \u001b[38;5;28;01mif\u001b[39;00m errors \u001b[38;5;241m==\u001b[39m \u001b[38;5;124m\"\u001b[39m\u001b[38;5;124mskip\u001b[39m\u001b[38;5;124m\"\u001b[39m:\n",
      "File \u001b[0;32m/opt/conda/envs/coiled/lib/python3.9/site-packages/dask/optimization.py:969\u001b[0m, in \u001b[0;36m__call__\u001b[0;34m()\u001b[0m\n",
      "File \u001b[0;32m/opt/conda/envs/coiled/lib/python3.9/site-packages/dask/core.py:149\u001b[0m, in \u001b[0;36mget\u001b[0;34m()\u001b[0m\n",
      "File \u001b[0;32m/opt/conda/envs/coiled/lib/python3.9/site-packages/dask/core.py:119\u001b[0m, in \u001b[0;36m_execute_task\u001b[0;34m()\u001b[0m\n",
      "File \u001b[0;32m/opt/conda/envs/coiled/lib/python3.9/site-packages/dask/core.py:119\u001b[0m, in \u001b[0;36m<genexpr>\u001b[0;34m()\u001b[0m\n",
      "File \u001b[0;32m/opt/conda/envs/coiled/lib/python3.9/site-packages/dask/core.py:119\u001b[0m, in \u001b[0;36m_execute_task\u001b[0;34m()\u001b[0m\n",
      "File \u001b[0;32m/opt/conda/envs/coiled/lib/python3.9/site-packages/dask/dataframe/io/parquet/core.py:87\u001b[0m, in \u001b[0;36m__call__\u001b[0;34m()\u001b[0m\n",
      "File \u001b[0;32m/opt/conda/envs/coiled/lib/python3.9/site-packages/dask/dataframe/io/parquet/core.py:422\u001b[0m, in \u001b[0;36mread_parquet_part\u001b[0;34m()\u001b[0m\n",
      "File \u001b[0;32m/opt/conda/envs/coiled/lib/python3.9/site-packages/dask/dataframe/io/parquet/core.py:423\u001b[0m, in \u001b[0;36m<listcomp>\u001b[0;34m()\u001b[0m\n",
      "File \u001b[0;32m/opt/conda/envs/coiled/lib/python3.9/site-packages/dask/dataframe/io/parquet/arrow.py:425\u001b[0m, in \u001b[0;36mread_partition\u001b[0;34m()\u001b[0m\n",
      "File \u001b[0;32m/opt/conda/envs/coiled/lib/python3.9/site-packages/dask/dataframe/io/parquet/arrow.py:1548\u001b[0m, in \u001b[0;36m_read_table\u001b[0;34m()\u001b[0m\n",
      "File \u001b[0;32m/opt/conda/envs/coiled/lib/python3.9/site-packages/dask/dataframe/io/parquet/arrow.py:229\u001b[0m, in \u001b[0;36m_read_table_from_path\u001b[0;34m()\u001b[0m\n",
      "File \u001b[0;32m/opt/conda/envs/coiled/lib/python3.9/site-packages/fsspec/spec.py:1030\u001b[0m, in \u001b[0;36mopen\u001b[0;34m()\u001b[0m\n",
      "File \u001b[0;32m/opt/conda/envs/coiled/lib/python3.9/site-packages/s3fs/core.py:552\u001b[0m, in \u001b[0;36m_open\u001b[0;34m()\u001b[0m\n",
      "File \u001b[0;32m/opt/conda/envs/coiled/lib/python3.9/site-packages/s3fs/core.py:1801\u001b[0m, in \u001b[0;36m__init__\u001b[0;34m()\u001b[0m\n",
      "File \u001b[0;32m/opt/conda/envs/coiled/lib/python3.9/site-packages/fsspec/spec.py:1372\u001b[0m, in \u001b[0;36m__init__\u001b[0;34m()\u001b[0m\n",
      "File \u001b[0;32m/opt/conda/envs/coiled/lib/python3.9/site-packages/fsspec/spec.py:1385\u001b[0m, in \u001b[0;36mdetails\u001b[0;34m()\u001b[0m\n",
      "File \u001b[0;32m/opt/conda/envs/coiled/lib/python3.9/site-packages/fsspec/asyn.py:91\u001b[0m, in \u001b[0;36mwrapper\u001b[0;34m()\u001b[0m\n",
      "File \u001b[0;32m/opt/conda/envs/coiled/lib/python3.9/site-packages/fsspec/asyn.py:71\u001b[0m, in \u001b[0;36msync\u001b[0;34m()\u001b[0m\n",
      "File \u001b[0;32m/opt/conda/envs/coiled/lib/python3.9/site-packages/fsspec/asyn.py:25\u001b[0m, in \u001b[0;36m_runner\u001b[0;34m()\u001b[0m\n",
      "File \u001b[0;32m/opt/conda/envs/coiled/lib/python3.9/site-packages/s3fs/core.py:1029\u001b[0m, in \u001b[0;36m_info\u001b[0;34m()\u001b[0m\n",
      "File \u001b[0;32m/opt/conda/envs/coiled/lib/python3.9/site-packages/s3fs/core.py:281\u001b[0m, in \u001b[0;36m_call_s3\u001b[0;34m()\u001b[0m\n",
      "\u001b[0;31mOSError\u001b[0m: [Errno 22] Bad Request"
     ]
    }
   ],
   "source": [
    "len(ddf2009)"
   ]
  },
  {
   "cell_type": "code",
   "execution_count": 80,
   "id": "28c5a9d5-a502-4150-9ba1-3dd5299d03e9",
   "metadata": {},
   "outputs": [],
   "source": [
    "ddf2010 = dd.read_parquet(\n",
    "    \"s3://coiled-datasets/nyc-tlc/2010\",\n",
    "    engine=\"pyarrow\",\n",
    ")"
   ]
  },
  {
   "cell_type": "code",
   "execution_count": null,
   "id": "0afa69ab-b689-4aab-96a9-d5aa822b801d",
   "metadata": {},
   "outputs": [],
   "source": []
  },
  {
   "cell_type": "code",
   "execution_count": 81,
   "id": "a4927931-eb90-4c91-9df7-51787837a60f",
   "metadata": {},
   "outputs": [],
   "source": [
    "ddf2011 = dd.read_parquet(\n",
    "    \"s3://coiled-datasets/nyc-tlc/2011\",\n",
    "    engine=\"pyarrow\",\n",
    ")"
   ]
  },
  {
   "cell_type": "code",
   "execution_count": 82,
   "id": "64b2ad65-72d2-4f5c-a791-d70716aa3c01",
   "metadata": {},
   "outputs": [],
   "source": [
    "ddf2012 = dd.read_parquet(\n",
    "    \"s3://coiled-datasets/nyc-tlc/2012\",\n",
    "    engine=\"pyarrow\",\n",
    ")"
   ]
  },
  {
   "cell_type": "code",
   "execution_count": 83,
   "id": "925a554c-d94d-42e3-ad58-b328495a3119",
   "metadata": {},
   "outputs": [],
   "source": [
    "ddf2013 = dd.read_parquet(\n",
    "    \"s3://coiled-datasets/nyc-tlc/2013\",\n",
    "    engine=\"pyarrow\",\n",
    ")"
   ]
  },
  {
   "cell_type": "code",
   "execution_count": 84,
   "id": "b6e23778-f52f-4124-9d94-6d27190630cc",
   "metadata": {},
   "outputs": [],
   "source": [
    "ddf = dd.concat([ddf2009, ddf2010, ddf2011, ddf2012, ddf2013])"
   ]
  },
  {
   "cell_type": "code",
   "execution_count": 85,
   "id": "64697155-576a-45ec-b6a6-e72212d32db6",
   "metadata": {},
   "outputs": [
    {
     "ename": "PermissionError",
     "evalue": "The provided token has expired.",
     "output_type": "error",
     "traceback": [
      "\u001b[0;31m---------------------------------------------------------------------------\u001b[0m",
      "\u001b[0;31mClientError\u001b[0m                               Traceback (most recent call last)",
      "File \u001b[0;32m/opt/conda/envs/coiled/lib/python3.9/site-packages/s3fs/core.py:261\u001b[0m, in \u001b[0;36m_call_s3\u001b[0;34m()\u001b[0m\n",
      "File \u001b[0;32m/opt/conda/envs/coiled/lib/python3.9/site-packages/aiobotocore/client.py:180\u001b[0m, in \u001b[0;36m_make_api_call\u001b[0;34m()\u001b[0m\n",
      "\u001b[0;31mClientError\u001b[0m: An error occurred (ExpiredToken) when calling the GetObject operation: The provided token has expired.",
      "\nThe above exception was the direct cause of the following exception:\n",
      "\u001b[0;31mPermissionError\u001b[0m                           Traceback (most recent call last)",
      "Input \u001b[0;32mIn [85]\u001b[0m, in \u001b[0;36m<module>\u001b[0;34m\u001b[0m\n\u001b[0;32m----> 1\u001b[0m \u001b[38;5;28;43mlen\u001b[39;49m\u001b[43m(\u001b[49m\u001b[43mddf\u001b[49m\u001b[43m)\u001b[49m\n",
      "File \u001b[0;32m~/opt/miniconda3/envs/standard-coiled/lib/python3.9/site-packages/dask/dataframe/core.py:4048\u001b[0m, in \u001b[0;36mDataFrame.__len__\u001b[0;34m(self)\u001b[0m\n\u001b[1;32m   4046\u001b[0m     \u001b[38;5;28;01mreturn\u001b[39;00m \u001b[38;5;28msuper\u001b[39m()\u001b[38;5;241m.\u001b[39m\u001b[38;5;21m__len__\u001b[39m()\n\u001b[1;32m   4047\u001b[0m \u001b[38;5;28;01melse\u001b[39;00m:\n\u001b[0;32m-> 4048\u001b[0m     \u001b[38;5;28;01mreturn\u001b[39;00m \u001b[38;5;28;43mlen\u001b[39;49m\u001b[43m(\u001b[49m\u001b[43ms\u001b[49m\u001b[43m)\u001b[49m\n",
      "File \u001b[0;32m~/opt/miniconda3/envs/standard-coiled/lib/python3.9/site-packages/dask/dataframe/core.py:586\u001b[0m, in \u001b[0;36m_Frame.__len__\u001b[0;34m(self)\u001b[0m\n\u001b[1;32m    585\u001b[0m \u001b[38;5;28;01mdef\u001b[39;00m \u001b[38;5;21m__len__\u001b[39m(\u001b[38;5;28mself\u001b[39m):\n\u001b[0;32m--> 586\u001b[0m     \u001b[38;5;28;01mreturn\u001b[39;00m \u001b[38;5;28;43mself\u001b[39;49m\u001b[38;5;241;43m.\u001b[39;49m\u001b[43mreduction\u001b[49m\u001b[43m(\u001b[49m\n\u001b[1;32m    587\u001b[0m \u001b[43m        \u001b[49m\u001b[38;5;28;43mlen\u001b[39;49m\u001b[43m,\u001b[49m\u001b[43m \u001b[49m\u001b[43mnp\u001b[49m\u001b[38;5;241;43m.\u001b[39;49m\u001b[43msum\u001b[49m\u001b[43m,\u001b[49m\u001b[43m \u001b[49m\u001b[43mtoken\u001b[49m\u001b[38;5;241;43m=\u001b[39;49m\u001b[38;5;124;43m\"\u001b[39;49m\u001b[38;5;124;43mlen\u001b[39;49m\u001b[38;5;124;43m\"\u001b[39;49m\u001b[43m,\u001b[49m\u001b[43m \u001b[49m\u001b[43mmeta\u001b[49m\u001b[38;5;241;43m=\u001b[39;49m\u001b[38;5;28;43mint\u001b[39;49m\u001b[43m,\u001b[49m\u001b[43m \u001b[49m\u001b[43msplit_every\u001b[49m\u001b[38;5;241;43m=\u001b[39;49m\u001b[38;5;28;43;01mFalse\u001b[39;49;00m\n\u001b[1;32m    588\u001b[0m \u001b[43m    \u001b[49m\u001b[43m)\u001b[49m\u001b[38;5;241;43m.\u001b[39;49m\u001b[43mcompute\u001b[49m\u001b[43m(\u001b[49m\u001b[43m)\u001b[49m\n",
      "File \u001b[0;32m~/opt/miniconda3/envs/standard-coiled/lib/python3.9/site-packages/dask/base.py:288\u001b[0m, in \u001b[0;36mDaskMethodsMixin.compute\u001b[0;34m(self, **kwargs)\u001b[0m\n\u001b[1;32m    264\u001b[0m \u001b[38;5;28;01mdef\u001b[39;00m \u001b[38;5;21mcompute\u001b[39m(\u001b[38;5;28mself\u001b[39m, \u001b[38;5;241m*\u001b[39m\u001b[38;5;241m*\u001b[39mkwargs):\n\u001b[1;32m    265\u001b[0m     \u001b[38;5;124;03m\"\"\"Compute this dask collection\u001b[39;00m\n\u001b[1;32m    266\u001b[0m \n\u001b[1;32m    267\u001b[0m \u001b[38;5;124;03m    This turns a lazy Dask collection into its in-memory equivalent.\u001b[39;00m\n\u001b[0;32m   (...)\u001b[0m\n\u001b[1;32m    286\u001b[0m \u001b[38;5;124;03m    dask.base.compute\u001b[39;00m\n\u001b[1;32m    287\u001b[0m \u001b[38;5;124;03m    \"\"\"\u001b[39;00m\n\u001b[0;32m--> 288\u001b[0m     (result,) \u001b[38;5;241m=\u001b[39m \u001b[43mcompute\u001b[49m\u001b[43m(\u001b[49m\u001b[38;5;28;43mself\u001b[39;49m\u001b[43m,\u001b[49m\u001b[43m \u001b[49m\u001b[43mtraverse\u001b[49m\u001b[38;5;241;43m=\u001b[39;49m\u001b[38;5;28;43;01mFalse\u001b[39;49;00m\u001b[43m,\u001b[49m\u001b[43m \u001b[49m\u001b[38;5;241;43m*\u001b[39;49m\u001b[38;5;241;43m*\u001b[39;49m\u001b[43mkwargs\u001b[49m\u001b[43m)\u001b[49m\n\u001b[1;32m    289\u001b[0m     \u001b[38;5;28;01mreturn\u001b[39;00m result\n",
      "File \u001b[0;32m~/opt/miniconda3/envs/standard-coiled/lib/python3.9/site-packages/dask/base.py:571\u001b[0m, in \u001b[0;36mcompute\u001b[0;34m(traverse, optimize_graph, scheduler, get, *args, **kwargs)\u001b[0m\n\u001b[1;32m    568\u001b[0m     keys\u001b[38;5;241m.\u001b[39mappend(x\u001b[38;5;241m.\u001b[39m__dask_keys__())\n\u001b[1;32m    569\u001b[0m     postcomputes\u001b[38;5;241m.\u001b[39mappend(x\u001b[38;5;241m.\u001b[39m__dask_postcompute__())\n\u001b[0;32m--> 571\u001b[0m results \u001b[38;5;241m=\u001b[39m \u001b[43mschedule\u001b[49m\u001b[43m(\u001b[49m\u001b[43mdsk\u001b[49m\u001b[43m,\u001b[49m\u001b[43m \u001b[49m\u001b[43mkeys\u001b[49m\u001b[43m,\u001b[49m\u001b[43m \u001b[49m\u001b[38;5;241;43m*\u001b[39;49m\u001b[38;5;241;43m*\u001b[39;49m\u001b[43mkwargs\u001b[49m\u001b[43m)\u001b[49m\n\u001b[1;32m    572\u001b[0m \u001b[38;5;28;01mreturn\u001b[39;00m repack([f(r, \u001b[38;5;241m*\u001b[39ma) \u001b[38;5;28;01mfor\u001b[39;00m r, (f, a) \u001b[38;5;129;01min\u001b[39;00m \u001b[38;5;28mzip\u001b[39m(results, postcomputes)])\n",
      "File \u001b[0;32m~/opt/miniconda3/envs/standard-coiled/lib/python3.9/site-packages/distributed/client.py:2725\u001b[0m, in \u001b[0;36mClient.get\u001b[0;34m(self, dsk, keys, workers, allow_other_workers, resources, sync, asynchronous, direct, retries, priority, fifo_timeout, actors, **kwargs)\u001b[0m\n\u001b[1;32m   2723\u001b[0m         should_rejoin \u001b[38;5;241m=\u001b[39m \u001b[38;5;28;01mFalse\u001b[39;00m\n\u001b[1;32m   2724\u001b[0m \u001b[38;5;28;01mtry\u001b[39;00m:\n\u001b[0;32m-> 2725\u001b[0m     results \u001b[38;5;241m=\u001b[39m \u001b[38;5;28;43mself\u001b[39;49m\u001b[38;5;241;43m.\u001b[39;49m\u001b[43mgather\u001b[49m\u001b[43m(\u001b[49m\u001b[43mpacked\u001b[49m\u001b[43m,\u001b[49m\u001b[43m \u001b[49m\u001b[43masynchronous\u001b[49m\u001b[38;5;241;43m=\u001b[39;49m\u001b[43masynchronous\u001b[49m\u001b[43m,\u001b[49m\u001b[43m \u001b[49m\u001b[43mdirect\u001b[49m\u001b[38;5;241;43m=\u001b[39;49m\u001b[43mdirect\u001b[49m\u001b[43m)\u001b[49m\n\u001b[1;32m   2726\u001b[0m \u001b[38;5;28;01mfinally\u001b[39;00m:\n\u001b[1;32m   2727\u001b[0m     \u001b[38;5;28;01mfor\u001b[39;00m f \u001b[38;5;129;01min\u001b[39;00m futures\u001b[38;5;241m.\u001b[39mvalues():\n",
      "File \u001b[0;32m~/opt/miniconda3/envs/standard-coiled/lib/python3.9/site-packages/distributed/client.py:1980\u001b[0m, in \u001b[0;36mClient.gather\u001b[0;34m(self, futures, errors, direct, asynchronous)\u001b[0m\n\u001b[1;32m   1978\u001b[0m \u001b[38;5;28;01melse\u001b[39;00m:\n\u001b[1;32m   1979\u001b[0m     local_worker \u001b[38;5;241m=\u001b[39m \u001b[38;5;28;01mNone\u001b[39;00m\n\u001b[0;32m-> 1980\u001b[0m \u001b[38;5;28;01mreturn\u001b[39;00m \u001b[38;5;28;43mself\u001b[39;49m\u001b[38;5;241;43m.\u001b[39;49m\u001b[43msync\u001b[49m\u001b[43m(\u001b[49m\n\u001b[1;32m   1981\u001b[0m \u001b[43m    \u001b[49m\u001b[38;5;28;43mself\u001b[39;49m\u001b[38;5;241;43m.\u001b[39;49m\u001b[43m_gather\u001b[49m\u001b[43m,\u001b[49m\n\u001b[1;32m   1982\u001b[0m \u001b[43m    \u001b[49m\u001b[43mfutures\u001b[49m\u001b[43m,\u001b[49m\n\u001b[1;32m   1983\u001b[0m \u001b[43m    \u001b[49m\u001b[43merrors\u001b[49m\u001b[38;5;241;43m=\u001b[39;49m\u001b[43merrors\u001b[49m\u001b[43m,\u001b[49m\n\u001b[1;32m   1984\u001b[0m \u001b[43m    \u001b[49m\u001b[43mdirect\u001b[49m\u001b[38;5;241;43m=\u001b[39;49m\u001b[43mdirect\u001b[49m\u001b[43m,\u001b[49m\n\u001b[1;32m   1985\u001b[0m \u001b[43m    \u001b[49m\u001b[43mlocal_worker\u001b[49m\u001b[38;5;241;43m=\u001b[39;49m\u001b[43mlocal_worker\u001b[49m\u001b[43m,\u001b[49m\n\u001b[1;32m   1986\u001b[0m \u001b[43m    \u001b[49m\u001b[43masynchronous\u001b[49m\u001b[38;5;241;43m=\u001b[39;49m\u001b[43masynchronous\u001b[49m\u001b[43m,\u001b[49m\n\u001b[1;32m   1987\u001b[0m \u001b[43m\u001b[49m\u001b[43m)\u001b[49m\n",
      "File \u001b[0;32m~/opt/miniconda3/envs/standard-coiled/lib/python3.9/site-packages/distributed/client.py:868\u001b[0m, in \u001b[0;36mClient.sync\u001b[0;34m(self, func, asynchronous, callback_timeout, *args, **kwargs)\u001b[0m\n\u001b[1;32m    866\u001b[0m     \u001b[38;5;28;01mreturn\u001b[39;00m future\n\u001b[1;32m    867\u001b[0m \u001b[38;5;28;01melse\u001b[39;00m:\n\u001b[0;32m--> 868\u001b[0m     \u001b[38;5;28;01mreturn\u001b[39;00m \u001b[43msync\u001b[49m\u001b[43m(\u001b[49m\n\u001b[1;32m    869\u001b[0m \u001b[43m        \u001b[49m\u001b[38;5;28;43mself\u001b[39;49m\u001b[38;5;241;43m.\u001b[39;49m\u001b[43mloop\u001b[49m\u001b[43m,\u001b[49m\u001b[43m \u001b[49m\u001b[43mfunc\u001b[49m\u001b[43m,\u001b[49m\u001b[43m \u001b[49m\u001b[38;5;241;43m*\u001b[39;49m\u001b[43margs\u001b[49m\u001b[43m,\u001b[49m\u001b[43m \u001b[49m\u001b[43mcallback_timeout\u001b[49m\u001b[38;5;241;43m=\u001b[39;49m\u001b[43mcallback_timeout\u001b[49m\u001b[43m,\u001b[49m\u001b[43m \u001b[49m\u001b[38;5;241;43m*\u001b[39;49m\u001b[38;5;241;43m*\u001b[39;49m\u001b[43mkwargs\u001b[49m\n\u001b[1;32m    870\u001b[0m \u001b[43m    \u001b[49m\u001b[43m)\u001b[49m\n",
      "File \u001b[0;32m~/opt/miniconda3/envs/standard-coiled/lib/python3.9/site-packages/distributed/utils.py:332\u001b[0m, in \u001b[0;36msync\u001b[0;34m(loop, func, callback_timeout, *args, **kwargs)\u001b[0m\n\u001b[1;32m    330\u001b[0m \u001b[38;5;28;01mif\u001b[39;00m error[\u001b[38;5;241m0\u001b[39m]:\n\u001b[1;32m    331\u001b[0m     typ, exc, tb \u001b[38;5;241m=\u001b[39m error[\u001b[38;5;241m0\u001b[39m]\n\u001b[0;32m--> 332\u001b[0m     \u001b[38;5;28;01mraise\u001b[39;00m exc\u001b[38;5;241m.\u001b[39mwith_traceback(tb)\n\u001b[1;32m    333\u001b[0m \u001b[38;5;28;01melse\u001b[39;00m:\n\u001b[1;32m    334\u001b[0m     \u001b[38;5;28;01mreturn\u001b[39;00m result[\u001b[38;5;241m0\u001b[39m]\n",
      "File \u001b[0;32m~/opt/miniconda3/envs/standard-coiled/lib/python3.9/site-packages/distributed/utils.py:315\u001b[0m, in \u001b[0;36msync.<locals>.f\u001b[0;34m()\u001b[0m\n\u001b[1;32m    313\u001b[0m     \u001b[38;5;28;01mif\u001b[39;00m callback_timeout \u001b[38;5;129;01mis\u001b[39;00m \u001b[38;5;129;01mnot\u001b[39;00m \u001b[38;5;28;01mNone\u001b[39;00m:\n\u001b[1;32m    314\u001b[0m         future \u001b[38;5;241m=\u001b[39m asyncio\u001b[38;5;241m.\u001b[39mwait_for(future, callback_timeout)\n\u001b[0;32m--> 315\u001b[0m     result[\u001b[38;5;241m0\u001b[39m] \u001b[38;5;241m=\u001b[39m \u001b[38;5;28;01myield\u001b[39;00m future\n\u001b[1;32m    316\u001b[0m \u001b[38;5;28;01mexcept\u001b[39;00m \u001b[38;5;167;01mException\u001b[39;00m:\n\u001b[1;32m    317\u001b[0m     error[\u001b[38;5;241m0\u001b[39m] \u001b[38;5;241m=\u001b[39m sys\u001b[38;5;241m.\u001b[39mexc_info()\n",
      "File \u001b[0;32m~/opt/miniconda3/envs/standard-coiled/lib/python3.9/site-packages/tornado/gen.py:762\u001b[0m, in \u001b[0;36mRunner.run\u001b[0;34m(self)\u001b[0m\n\u001b[1;32m    759\u001b[0m exc_info \u001b[38;5;241m=\u001b[39m \u001b[38;5;28;01mNone\u001b[39;00m\n\u001b[1;32m    761\u001b[0m \u001b[38;5;28;01mtry\u001b[39;00m:\n\u001b[0;32m--> 762\u001b[0m     value \u001b[38;5;241m=\u001b[39m \u001b[43mfuture\u001b[49m\u001b[38;5;241;43m.\u001b[39;49m\u001b[43mresult\u001b[49m\u001b[43m(\u001b[49m\u001b[43m)\u001b[49m\n\u001b[1;32m    763\u001b[0m \u001b[38;5;28;01mexcept\u001b[39;00m \u001b[38;5;167;01mException\u001b[39;00m:\n\u001b[1;32m    764\u001b[0m     exc_info \u001b[38;5;241m=\u001b[39m sys\u001b[38;5;241m.\u001b[39mexc_info()\n",
      "File \u001b[0;32m~/opt/miniconda3/envs/standard-coiled/lib/python3.9/site-packages/distributed/client.py:1845\u001b[0m, in \u001b[0;36mClient._gather\u001b[0;34m(self, futures, errors, direct, local_worker)\u001b[0m\n\u001b[1;32m   1843\u001b[0m         exc \u001b[38;5;241m=\u001b[39m CancelledError(key)\n\u001b[1;32m   1844\u001b[0m     \u001b[38;5;28;01melse\u001b[39;00m:\n\u001b[0;32m-> 1845\u001b[0m         \u001b[38;5;28;01mraise\u001b[39;00m exception\u001b[38;5;241m.\u001b[39mwith_traceback(traceback)\n\u001b[1;32m   1846\u001b[0m     \u001b[38;5;28;01mraise\u001b[39;00m exc\n\u001b[1;32m   1847\u001b[0m \u001b[38;5;28;01mif\u001b[39;00m errors \u001b[38;5;241m==\u001b[39m \u001b[38;5;124m\"\u001b[39m\u001b[38;5;124mskip\u001b[39m\u001b[38;5;124m\"\u001b[39m:\n",
      "File \u001b[0;32m/opt/conda/envs/coiled/lib/python3.9/site-packages/dask/optimization.py:969\u001b[0m, in \u001b[0;36m__call__\u001b[0;34m()\u001b[0m\n",
      "File \u001b[0;32m/opt/conda/envs/coiled/lib/python3.9/site-packages/dask/core.py:149\u001b[0m, in \u001b[0;36mget\u001b[0;34m()\u001b[0m\n",
      "File \u001b[0;32m/opt/conda/envs/coiled/lib/python3.9/site-packages/dask/core.py:119\u001b[0m, in \u001b[0;36m_execute_task\u001b[0;34m()\u001b[0m\n",
      "File \u001b[0;32m/opt/conda/envs/coiled/lib/python3.9/site-packages/dask/dataframe/io/parquet/core.py:87\u001b[0m, in \u001b[0;36m__call__\u001b[0;34m()\u001b[0m\n",
      "File \u001b[0;32m/opt/conda/envs/coiled/lib/python3.9/site-packages/dask/dataframe/io/parquet/core.py:422\u001b[0m, in \u001b[0;36mread_parquet_part\u001b[0;34m()\u001b[0m\n",
      "File \u001b[0;32m/opt/conda/envs/coiled/lib/python3.9/site-packages/dask/dataframe/io/parquet/core.py:423\u001b[0m, in \u001b[0;36m<listcomp>\u001b[0;34m()\u001b[0m\n",
      "File \u001b[0;32m/opt/conda/envs/coiled/lib/python3.9/site-packages/dask/dataframe/io/parquet/arrow.py:425\u001b[0m, in \u001b[0;36mread_partition\u001b[0;34m()\u001b[0m\n",
      "File \u001b[0;32m/opt/conda/envs/coiled/lib/python3.9/site-packages/dask/dataframe/io/parquet/arrow.py:1548\u001b[0m, in \u001b[0;36m_read_table\u001b[0;34m()\u001b[0m\n",
      "File \u001b[0;32m/opt/conda/envs/coiled/lib/python3.9/site-packages/dask/dataframe/io/parquet/arrow.py:231\u001b[0m, in \u001b[0;36m_read_table_from_path\u001b[0;34m()\u001b[0m\n",
      "File \u001b[0;32m/opt/conda/envs/coiled/lib/python3.9/site-packages/pyarrow/parquet.py:401\u001b[0m, in \u001b[0;36mread\u001b[0;34m()\u001b[0m\n",
      "File \u001b[0;32m~/opt/miniconda3/envs/standard-coiled/lib/python3.9/site-packages/pyarrow/_parquet.pyx:1120\u001b[0m, in \u001b[0;36mpyarrow._parquet.ParquetReader.read_all\u001b[0;34m()\u001b[0m\n",
      "File \u001b[0;32m/opt/conda/envs/coiled/lib/python3.9/site-packages/fsspec/spec.py:1565\u001b[0m, in \u001b[0;36mread\u001b[0;34m()\u001b[0m\n",
      "File \u001b[0;32m/opt/conda/envs/coiled/lib/python3.9/site-packages/fsspec/caching.py:394\u001b[0m, in \u001b[0;36m_fetch\u001b[0;34m()\u001b[0m\n",
      "File \u001b[0;32m/opt/conda/envs/coiled/lib/python3.9/site-packages/s3fs/core.py:1896\u001b[0m, in \u001b[0;36m_fetch_range\u001b[0;34m()\u001b[0m\n",
      "File \u001b[0;32m/opt/conda/envs/coiled/lib/python3.9/site-packages/s3fs/core.py:2038\u001b[0m, in \u001b[0;36m_fetch_range\u001b[0;34m()\u001b[0m\n",
      "File \u001b[0;32m/opt/conda/envs/coiled/lib/python3.9/site-packages/fsspec/asyn.py:91\u001b[0m, in \u001b[0;36mwrapper\u001b[0;34m()\u001b[0m\n",
      "File \u001b[0;32m/opt/conda/envs/coiled/lib/python3.9/site-packages/fsspec/asyn.py:71\u001b[0m, in \u001b[0;36msync\u001b[0;34m()\u001b[0m\n",
      "File \u001b[0;32m/opt/conda/envs/coiled/lib/python3.9/site-packages/fsspec/asyn.py:25\u001b[0m, in \u001b[0;36m_runner\u001b[0;34m()\u001b[0m\n",
      "File \u001b[0;32m/opt/conda/envs/coiled/lib/python3.9/site-packages/s3fs/core.py:281\u001b[0m, in \u001b[0;36m_call_s3\u001b[0;34m()\u001b[0m\n",
      "\u001b[0;31mPermissionError\u001b[0m: The provided token has expired."
     ]
    }
   ],
   "source": [
    "len(ddf)"
   ]
  },
  {
   "cell_type": "code",
   "execution_count": null,
   "id": "31e461ef-60e0-4a53-9d62-d759b72d751a",
   "metadata": {},
   "outputs": [],
   "source": []
  }
 ],
 "metadata": {
  "kernelspec": {
   "display_name": "dask-dataframe",
   "language": "python",
   "name": "dask-dataframe"
  },
  "language_info": {
   "codemirror_mode": {
    "name": "ipython",
    "version": 3
   },
   "file_extension": ".py",
   "mimetype": "text/x-python",
   "name": "python",
   "nbconvert_exporter": "python",
   "pygments_lexer": "ipython3",
   "version": "3.9.12"
  }
 },
 "nbformat": 4,
 "nbformat_minor": 5
}
