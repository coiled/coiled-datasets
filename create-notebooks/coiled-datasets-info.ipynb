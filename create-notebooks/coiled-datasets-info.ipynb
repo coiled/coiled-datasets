{
 "cells": [
  {
   "cell_type": "code",
   "execution_count": 1,
   "id": "3f774c82-024a-4fc6-a6b4-77fc451d7213",
   "metadata": {},
   "outputs": [],
   "source": [
    "import pandas as pd\n",
    "import dask.dataframe as dd\n",
    "import dask\n",
    "import coiled\n",
    "import dask.distributed"
   ]
  },
  {
   "cell_type": "code",
   "execution_count": 15,
   "id": "56874636-4717-4e68-b97f-b78ddf0fb09f",
   "metadata": {},
   "outputs": [
    {
     "name": "stderr",
     "output_type": "stream",
     "text": [
      "/Users/powers/opt/miniconda3/envs/standard-coiled/lib/python3.9/site-packages/rich/live.py:227: UserWarning: install \"ipywidgets\" for Jupyter support\n",
      "  warnings.warn('install \"ipywidgets\" for Jupyter support')\n"
     ]
    },
    {
     "name": "stdout",
     "output_type": "stream",
     "text": [
      "Found software environment build\n",
      "Created FW rules: coiled-dask-matthew24-52103-firewall\n",
      "Created scheduler VM: coiled-dask-matthew24-52103-scheduler (type: t3.medium, ip: ['44.193.72.2'])\n"
     ]
    },
    {
     "data": {
      "text/html": [
       "<pre style=\"white-space:pre;overflow-x:auto;line-height:normal;font-family:Menlo,'DejaVu Sans Mono',consolas,'Courier New',monospace\"></pre>\n"
      ],
      "text/plain": []
     },
     "metadata": {},
     "output_type": "display_data"
    }
   ],
   "source": [
    "cluster = coiled.Cluster(name=\"powers-demo\", n_workers=10)"
   ]
  },
  {
   "cell_type": "code",
   "execution_count": 16,
   "id": "2df0f4d8-a427-4e5b-85f8-f7cc93d17dbe",
   "metadata": {},
   "outputs": [
    {
     "name": "stderr",
     "output_type": "stream",
     "text": [
      "/Users/powers/opt/miniconda3/envs/standard-coiled/lib/python3.9/site-packages/distributed/client.py:1105: VersionMismatchWarning: Mismatched versions found\n",
      "\n",
      "+-------------+-----------+-----------+-----------+\n",
      "| Package     | client    | scheduler | workers   |\n",
      "+-------------+-----------+-----------+-----------+\n",
      "| cloudpickle | 1.6.0     | 2.0.0     | 2.0.0     |\n",
      "| dask        | 2021.08.1 | 2021.09.1 | 2021.09.1 |\n",
      "| distributed | 2021.08.1 | 2021.09.1 | 2021.09.1 |\n",
      "| pandas      | 1.3.2     | 1.3.3     | 1.3.3     |\n",
      "+-------------+-----------+-----------+-----------+\n",
      "  warnings.warn(version_module.VersionMismatchWarning(msg[0][\"warning\"]))\n"
     ]
    }
   ],
   "source": [
    "client = dask.distributed.Client(cluster)"
   ]
  },
  {
   "cell_type": "markdown",
   "id": "a1e5a6c9-4c18-4309-abbd-050dc90a67fe",
   "metadata": {},
   "source": [
    "## timeseries/20-years/parquet"
   ]
  },
  {
   "cell_type": "code",
   "execution_count": 6,
   "id": "91176da4-cce3-459d-bd53-2e8dde6ee6c8",
   "metadata": {},
   "outputs": [],
   "source": [
    "ddf = dd.read_parquet(\n",
    "    \"s3://coiled-datasets/timeseries/20-years/parquet\",\n",
    "    storage_options={\"anon\": True, \"use_ssl\": True},\n",
    "    engine=\"pyarrow\",\n",
    ")"
   ]
  },
  {
   "cell_type": "code",
   "execution_count": 7,
   "id": "77c5e8b7-2670-40f4-a6bf-8e5fc03b495b",
   "metadata": {},
   "outputs": [
    {
     "data": {
      "text/plain": [
       "662256000"
      ]
     },
     "execution_count": 7,
     "metadata": {},
     "output_type": "execute_result"
    }
   ],
   "source": [
    "len(ddf)"
   ]
  },
  {
   "cell_type": "code",
   "execution_count": 8,
   "id": "eef7e1bd-7c7a-457f-a85c-9bfccec4c5d7",
   "metadata": {},
   "outputs": [
    {
     "data": {
      "text/plain": [
       "62481295692"
      ]
     },
     "execution_count": 8,
     "metadata": {},
     "output_type": "execute_result"
    }
   ],
   "source": [
    "ddf.memory_usage(deep=True).sum().compute()"
   ]
  },
  {
   "cell_type": "code",
   "execution_count": 9,
   "id": "caa27118-3e67-4229-84ee-7c4eb4825e8b",
   "metadata": {},
   "outputs": [
    {
     "data": {
      "text/plain": [
       "id        int64\n",
       "name     object\n",
       "x       float64\n",
       "y       float64\n",
       "dtype: object"
      ]
     },
     "execution_count": 9,
     "metadata": {},
     "output_type": "execute_result"
    }
   ],
   "source": [
    "ddf.dtypes"
   ]
  },
  {
   "cell_type": "markdown",
   "id": "bbf15954-11cd-415b-8976-e4d9d0f2a2fe",
   "metadata": {},
   "source": [
    "## timeseries/1h/parquet/2000/"
   ]
  },
  {
   "cell_type": "code",
   "execution_count": 17,
   "id": "3a2ac89d-9023-4e21-bd05-2aab87d6fd79",
   "metadata": {},
   "outputs": [],
   "source": [
    "ddf = dd.read_parquet(\n",
    "    \"s3://coiled-datasets/timeseries/1h/parquet/2000/\",\n",
    "    storage_options={\"anon\": True, \"use_ssl\": True},\n",
    "    engine=\"pyarrow\",\n",
    ")"
   ]
  },
  {
   "cell_type": "code",
   "execution_count": null,
   "id": "0e2373c0-d370-4c97-91f9-5f315bc61e59",
   "metadata": {},
   "outputs": [],
   "source": [
    "len(ddf)"
   ]
  },
  {
   "cell_type": "code",
   "execution_count": null,
   "id": "c6301a78-743e-469f-9a24-55c2a1780288",
   "metadata": {},
   "outputs": [],
   "source": [
    "ddf.memory_usage(deep=True).sum().compute()"
   ]
  }
 ],
 "metadata": {
  "kernelspec": {
   "display_name": "Python [conda env:standard-coiled] *",
   "language": "python",
   "name": "conda-env-standard-coiled-py"
  },
  "language_info": {
   "codemirror_mode": {
    "name": "ipython",
    "version": 3
   },
   "file_extension": ".py",
   "mimetype": "text/x-python",
   "name": "python",
   "nbconvert_exporter": "python",
   "pygments_lexer": "ipython3",
   "version": "3.9.7"
  }
 },
 "nbformat": 4,
 "nbformat_minor": 5
}
