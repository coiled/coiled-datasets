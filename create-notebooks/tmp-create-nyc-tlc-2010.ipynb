{
 "cells": [
  {
   "cell_type": "code",
   "execution_count": 5,
   "id": "ec970223-6e70-4782-aeee-ed4eda136938",
   "metadata": {},
   "outputs": [],
   "source": [
    "import coiled\n",
    "import dask.dataframe as dd\n",
    "from dask.distributed import Client"
   ]
  },
  {
   "cell_type": "code",
   "execution_count": 2,
   "id": "3834ae61-32da-4f3e-bdac-78ce4dc74a2b",
   "metadata": {},
   "outputs": [
    {
     "data": {
      "application/vnd.jupyter.widget-view+json": {
       "model_id": "",
       "version_major": 2,
       "version_minor": 0
      },
      "text/plain": [
       "Output()"
      ]
     },
     "metadata": {},
     "output_type": "display_data"
    },
    {
     "name": "stdout",
     "output_type": "stream",
     "text": [
      "Found software environment build\n",
      "Created fw rule: inbound [8786-8787] [0.0.0.0/0] []\n",
      "Created FW rules: coiled-dask-matthew24-148591-firewall\n",
      "Created fw rule: cluster [0-65535] [None] [coiled-dask-matthew24-148591-firewall -> coiled-dask-matthew24-148591-firewall]\n",
      "Created FW rules: coiled-dask-matthew24-148591-cluster-firewall\n",
      "Created fw rule: cluster [0-65535] [None] [coiled-dask-matthew24-148591-cluster-firewall -> coiled-dask-matthew24-148591-cluster-firewall]\n",
      "Created scheduler VM: coiled-dask-matthew24-148591-scheduler (type: t3.medium, ip: ['44.203.228.185'])\n"
     ]
    },
    {
     "data": {
      "text/html": [
       "<pre style=\"white-space:pre;overflow-x:auto;line-height:normal;font-family:Menlo,'DejaVu Sans Mono',consolas,'Courier New',monospace\"></pre>\n"
      ],
      "text/plain": []
     },
     "metadata": {},
     "output_type": "display_data"
    }
   ],
   "source": [
    "cluster = coiled.Cluster(\n",
    "    name=\"github-json\",\n",
    "    software=\"matthew-powers/my_env\", \n",
    "    n_workers=10,\n",
    ")"
   ]
  },
  {
   "cell_type": "code",
   "execution_count": 3,
   "id": "6292bcbe-4cbd-4770-8110-c869f4cdf8f6",
   "metadata": {},
   "outputs": [],
   "source": [
    "client = Client(cluster)"
   ]
  },
  {
   "cell_type": "code",
   "execution_count": 6,
   "id": "5f5cd799-4c90-44f0-b038-6b8881c26a90",
   "metadata": {},
   "outputs": [],
   "source": [
    "# read data in without dtypes\n",
    "ddf = dd.read_csv(\n",
    "    \"s3://nyc-tlc/trip data/yellow_tripdata_2010-*.csv\",\n",
    "    parse_dates=[\"pickup_datetime\", \"dropoff_datetime\"],\n",
    "    on_bad_lines=\"skip\",\n",
    "    dtype={\n",
    "        'tolls_amount': 'float64',\n",
    "        \"store_and_fwd_flag\": \"object\",\n",
    "    },\n",
    ")"
   ]
  },
  {
   "cell_type": "code",
   "execution_count": 7,
   "id": "75568bc0-922b-4829-b460-e901c4d447be",
   "metadata": {},
   "outputs": [
    {
     "data": {
      "text/plain": [
       "vendor_id                     object\n",
       "pickup_datetime       datetime64[ns]\n",
       "dropoff_datetime      datetime64[ns]\n",
       "passenger_count                int64\n",
       "trip_distance                float64\n",
       "pickup_longitude             float64\n",
       "pickup_latitude              float64\n",
       "rate_code                      int64\n",
       "store_and_fwd_flag            object\n",
       "dropoff_longitude            float64\n",
       "dropoff_latitude             float64\n",
       "payment_type                  object\n",
       "fare_amount                  float64\n",
       "surcharge                    float64\n",
       "mta_tax                      float64\n",
       "tip_amount                   float64\n",
       "tolls_amount                 float64\n",
       "total_amount                 float64\n",
       "dtype: object"
      ]
     },
     "execution_count": 7,
     "metadata": {},
     "output_type": "execute_result"
    }
   ],
   "source": [
    "ddf.dtypes"
   ]
  },
  {
   "cell_type": "code",
   "execution_count": 8,
   "id": "a704fa91-8819-41cd-8607-a60ee55c6147",
   "metadata": {},
   "outputs": [
    {
     "data": {
      "text/plain": [
       "168994353"
      ]
     },
     "execution_count": 8,
     "metadata": {},
     "output_type": "execute_result"
    }
   ],
   "source": [
    "len(ddf)"
   ]
  },
  {
   "cell_type": "code",
   "execution_count": 9,
   "id": "6aac8a0b-d2aa-4ef6-b54a-a0acbd0fef7f",
   "metadata": {},
   "outputs": [
    {
     "data": {
      "text/html": [
       "<div>\n",
       "<style scoped>\n",
       "    .dataframe tbody tr th:only-of-type {\n",
       "        vertical-align: middle;\n",
       "    }\n",
       "\n",
       "    .dataframe tbody tr th {\n",
       "        vertical-align: top;\n",
       "    }\n",
       "\n",
       "    .dataframe thead th {\n",
       "        text-align: right;\n",
       "    }\n",
       "</style>\n",
       "<table border=\"1\" class=\"dataframe\">\n",
       "  <thead>\n",
       "    <tr style=\"text-align: right;\">\n",
       "      <th></th>\n",
       "      <th>passenger_count</th>\n",
       "      <th>trip_distance</th>\n",
       "      <th>pickup_longitude</th>\n",
       "      <th>pickup_latitude</th>\n",
       "      <th>rate_code</th>\n",
       "      <th>dropoff_longitude</th>\n",
       "      <th>dropoff_latitude</th>\n",
       "      <th>fare_amount</th>\n",
       "      <th>surcharge</th>\n",
       "      <th>mta_tax</th>\n",
       "      <th>tip_amount</th>\n",
       "      <th>tolls_amount</th>\n",
       "      <th>total_amount</th>\n",
       "    </tr>\n",
       "  </thead>\n",
       "  <tbody>\n",
       "    <tr>\n",
       "      <th>count</th>\n",
       "      <td>1.689944e+08</td>\n",
       "      <td>1.689944e+08</td>\n",
       "      <td>1.689944e+08</td>\n",
       "      <td>1.689944e+08</td>\n",
       "      <td>1.689944e+08</td>\n",
       "      <td>1.689942e+08</td>\n",
       "      <td>1.689942e+08</td>\n",
       "      <td>1.689944e+08</td>\n",
       "      <td>1.689944e+08</td>\n",
       "      <td>1.689944e+08</td>\n",
       "      <td>1.689944e+08</td>\n",
       "      <td>1.689944e+08</td>\n",
       "      <td>1.689944e+08</td>\n",
       "    </tr>\n",
       "    <tr>\n",
       "      <th>mean</th>\n",
       "      <td>1.674221e+00</td>\n",
       "      <td>5.864681e+00</td>\n",
       "      <td>-7.239051e+01</td>\n",
       "      <td>3.988347e+01</td>\n",
       "      <td>1.032463e+00</td>\n",
       "      <td>-7.241661e+01</td>\n",
       "      <td>3.989821e+01</td>\n",
       "      <td>9.844589e+00</td>\n",
       "      <td>3.221727e-01</td>\n",
       "      <td>4.955940e-01</td>\n",
       "      <td>7.605548e-01</td>\n",
       "      <td>-7.496016e-02</td>\n",
       "      <td>1.135107e+01</td>\n",
       "    </tr>\n",
       "    <tr>\n",
       "      <th>std</th>\n",
       "      <td>1.300666e+00</td>\n",
       "      <td>5.409394e+03</td>\n",
       "      <td>1.102328e+01</td>\n",
       "      <td>7.053625e+00</td>\n",
       "      <td>4.236116e-01</td>\n",
       "      <td>1.089876e+01</td>\n",
       "      <td>7.027043e+00</td>\n",
       "      <td>1.664848e+03</td>\n",
       "      <td>3.693486e-01</td>\n",
       "      <td>1.345498e-01</td>\n",
       "      <td>1.735413e+02</td>\n",
       "      <td>2.336194e+03</td>\n",
       "      <td>2.873962e+03</td>\n",
       "    </tr>\n",
       "    <tr>\n",
       "      <th>min</th>\n",
       "      <td>0.000000e+00</td>\n",
       "      <td>-2.147483e+07</td>\n",
       "      <td>-3.509015e+03</td>\n",
       "      <td>-3.579139e+03</td>\n",
       "      <td>0.000000e+00</td>\n",
       "      <td>-3.579139e+03</td>\n",
       "      <td>-3.538432e+03</td>\n",
       "      <td>-2.147481e+07</td>\n",
       "      <td>-1.000000e+00</td>\n",
       "      <td>-1.000000e+00</td>\n",
       "      <td>-1.677720e+06</td>\n",
       "      <td>-2.147484e+07</td>\n",
       "      <td>-2.147483e+07</td>\n",
       "    </tr>\n",
       "    <tr>\n",
       "      <th>25%</th>\n",
       "      <td>1.000000e+00</td>\n",
       "      <td>1.090000e+00</td>\n",
       "      <td>-7.399139e+01</td>\n",
       "      <td>4.073673e+01</td>\n",
       "      <td>1.000000e+00</td>\n",
       "      <td>-7.399071e+01</td>\n",
       "      <td>4.073553e+01</td>\n",
       "      <td>5.700000e+00</td>\n",
       "      <td>0.000000e+00</td>\n",
       "      <td>5.000000e-01</td>\n",
       "      <td>0.000000e+00</td>\n",
       "      <td>0.000000e+00</td>\n",
       "      <td>7.000000e+00</td>\n",
       "    </tr>\n",
       "    <tr>\n",
       "      <th>50%</th>\n",
       "      <td>1.000000e+00</td>\n",
       "      <td>1.800000e+00</td>\n",
       "      <td>-7.398101e+01</td>\n",
       "      <td>4.075392e+01</td>\n",
       "      <td>1.000000e+00</td>\n",
       "      <td>-7.397925e+01</td>\n",
       "      <td>4.075437e+01</td>\n",
       "      <td>8.100000e+00</td>\n",
       "      <td>5.000000e-01</td>\n",
       "      <td>5.000000e-01</td>\n",
       "      <td>0.000000e+00</td>\n",
       "      <td>0.000000e+00</td>\n",
       "      <td>9.540000e+00</td>\n",
       "    </tr>\n",
       "    <tr>\n",
       "      <th>75%</th>\n",
       "      <td>3.000000e+00</td>\n",
       "      <td>3.250000e+00</td>\n",
       "      <td>-7.396582e+01</td>\n",
       "      <td>4.076844e+01</td>\n",
       "      <td>1.000000e+00</td>\n",
       "      <td>-7.396257e+01</td>\n",
       "      <td>4.076894e+01</td>\n",
       "      <td>1.210000e+01</td>\n",
       "      <td>5.000000e-01</td>\n",
       "      <td>5.000000e-01</td>\n",
       "      <td>1.600000e+00</td>\n",
       "      <td>0.000000e+00</td>\n",
       "      <td>1.380000e+01</td>\n",
       "    </tr>\n",
       "    <tr>\n",
       "      <th>max</th>\n",
       "      <td>2.550000e+02</td>\n",
       "      <td>1.620163e+07</td>\n",
       "      <td>3.569931e+03</td>\n",
       "      <td>3.377993e+03</td>\n",
       "      <td>2.210000e+02</td>\n",
       "      <td>3.443651e+03</td>\n",
       "      <td>3.510381e+03</td>\n",
       "      <td>9.396007e+04</td>\n",
       "      <td>6.157800e+02</td>\n",
       "      <td>1.311220e+03</td>\n",
       "      <td>9.380200e+02</td>\n",
       "      <td>5.510070e+03</td>\n",
       "      <td>9.396057e+04</td>\n",
       "    </tr>\n",
       "  </tbody>\n",
       "</table>\n",
       "</div>"
      ],
      "text/plain": [
       "       passenger_count  trip_distance  pickup_longitude  pickup_latitude  \\\n",
       "count     1.689944e+08   1.689944e+08      1.689944e+08     1.689944e+08   \n",
       "mean      1.674221e+00   5.864681e+00     -7.239051e+01     3.988347e+01   \n",
       "std       1.300666e+00   5.409394e+03      1.102328e+01     7.053625e+00   \n",
       "min       0.000000e+00  -2.147483e+07     -3.509015e+03    -3.579139e+03   \n",
       "25%       1.000000e+00   1.090000e+00     -7.399139e+01     4.073673e+01   \n",
       "50%       1.000000e+00   1.800000e+00     -7.398101e+01     4.075392e+01   \n",
       "75%       3.000000e+00   3.250000e+00     -7.396582e+01     4.076844e+01   \n",
       "max       2.550000e+02   1.620163e+07      3.569931e+03     3.377993e+03   \n",
       "\n",
       "          rate_code  dropoff_longitude  dropoff_latitude   fare_amount  \\\n",
       "count  1.689944e+08       1.689942e+08      1.689942e+08  1.689944e+08   \n",
       "mean   1.032463e+00      -7.241661e+01      3.989821e+01  9.844589e+00   \n",
       "std    4.236116e-01       1.089876e+01      7.027043e+00  1.664848e+03   \n",
       "min    0.000000e+00      -3.579139e+03     -3.538432e+03 -2.147481e+07   \n",
       "25%    1.000000e+00      -7.399071e+01      4.073553e+01  5.700000e+00   \n",
       "50%    1.000000e+00      -7.397925e+01      4.075437e+01  8.100000e+00   \n",
       "75%    1.000000e+00      -7.396257e+01      4.076894e+01  1.210000e+01   \n",
       "max    2.210000e+02       3.443651e+03      3.510381e+03  9.396007e+04   \n",
       "\n",
       "          surcharge       mta_tax    tip_amount  tolls_amount  total_amount  \n",
       "count  1.689944e+08  1.689944e+08  1.689944e+08  1.689944e+08  1.689944e+08  \n",
       "mean   3.221727e-01  4.955940e-01  7.605548e-01 -7.496016e-02  1.135107e+01  \n",
       "std    3.693486e-01  1.345498e-01  1.735413e+02  2.336194e+03  2.873962e+03  \n",
       "min   -1.000000e+00 -1.000000e+00 -1.677720e+06 -2.147484e+07 -2.147483e+07  \n",
       "25%    0.000000e+00  5.000000e-01  0.000000e+00  0.000000e+00  7.000000e+00  \n",
       "50%    5.000000e-01  5.000000e-01  0.000000e+00  0.000000e+00  9.540000e+00  \n",
       "75%    5.000000e-01  5.000000e-01  1.600000e+00  0.000000e+00  1.380000e+01  \n",
       "max    6.157800e+02  1.311220e+03  9.380200e+02  5.510070e+03  9.396057e+04  "
      ]
     },
     "execution_count": 9,
     "metadata": {},
     "output_type": "execute_result"
    }
   ],
   "source": [
    "ddf.describe().compute()"
   ]
  },
  {
   "cell_type": "code",
   "execution_count": 10,
   "id": "915cacf3-26da-43d8-b337-73e1cd2436d8",
   "metadata": {},
   "outputs": [
    {
     "data": {
      "text/plain": [
       "[None]"
      ]
     },
     "execution_count": 10,
     "metadata": {},
     "output_type": "execute_result"
    }
   ],
   "source": [
    "# repartition and write 2010 data to Parquet \n",
    "ddf.repartition(partition_size=\"100MB\").to_parquet(\n",
    "    \"s3://coiled-datasets/tmp/matt/nyc-tlc-2010\",\n",
    "    engine=\"pyarrow\",\n",
    "    compression=\"snappy\",\n",
    "    write_metadata_file=False,\n",
    ")"
   ]
  },
  {
   "cell_type": "code",
   "execution_count": null,
   "id": "4148f9ce-8d2d-419f-a3d1-d7ae2700b0e7",
   "metadata": {},
   "outputs": [],
   "source": []
  }
 ],
 "metadata": {
  "kernelspec": {
   "display_name": "Python [conda env:crt] *",
   "language": "python",
   "name": "conda-env-crt-py"
  },
  "language_info": {
   "codemirror_mode": {
    "name": "ipython",
    "version": 3
   },
   "file_extension": ".py",
   "mimetype": "text/x-python",
   "name": "python",
   "nbconvert_exporter": "python",
   "pygments_lexer": "ipython3",
   "version": "3.9.12"
  }
 },
 "nbformat": 4,
 "nbformat_minor": 5
}
